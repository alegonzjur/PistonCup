{
 "cells": [
  {
   "cell_type": "markdown",
   "id": "ae963c15",
   "metadata": {},
   "source": [
    "I obtained a 2nd dataset which looks better than the first one. I will develop a second model and compare it to the first one to choose the better model."
   ]
  },
  {
   "cell_type": "markdown",
   "id": "1f0d195e",
   "metadata": {},
   "source": [
    "### Loading primary libraries"
   ]
  },
  {
   "cell_type": "code",
   "execution_count": 60,
   "id": "db45e62f",
   "metadata": {},
   "outputs": [],
   "source": [
    "import pandas as pd\n",
    "import numpy as np \n",
    "import matplotlib.pyplot as plt              \n",
    "import seaborn as sns   "
   ]
  },
  {
   "cell_type": "markdown",
   "id": "cb65f09d",
   "metadata": {},
   "source": [
    "## Loading the new dataset"
   ]
  },
  {
   "cell_type": "code",
   "execution_count": 61,
   "id": "fbb0696b",
   "metadata": {},
   "outputs": [
    {
     "name": "stdout",
     "output_type": "stream",
     "text": [
      "CSV file loaded succesfully!\n"
     ]
    },
    {
     "data": {
      "text/html": [
       "<div>\n",
       "<style scoped>\n",
       "    .dataframe tbody tr th:only-of-type {\n",
       "        vertical-align: middle;\n",
       "    }\n",
       "\n",
       "    .dataframe tbody tr th {\n",
       "        vertical-align: top;\n",
       "    }\n",
       "\n",
       "    .dataframe thead th {\n",
       "        text-align: right;\n",
       "    }\n",
       "</style>\n",
       "<table border=\"1\" class=\"dataframe\">\n",
       "  <thead>\n",
       "    <tr style=\"text-align: right;\">\n",
       "      <th></th>\n",
       "      <th>name</th>\n",
       "      <th>description</th>\n",
       "      <th>make</th>\n",
       "      <th>model</th>\n",
       "      <th>year</th>\n",
       "      <th>price</th>\n",
       "      <th>engine</th>\n",
       "      <th>cylinders</th>\n",
       "      <th>fuel</th>\n",
       "      <th>mileage</th>\n",
       "      <th>transmission</th>\n",
       "      <th>trim</th>\n",
       "      <th>body</th>\n",
       "      <th>doors</th>\n",
       "      <th>exterior_color</th>\n",
       "      <th>interior_color</th>\n",
       "      <th>drivetrain</th>\n",
       "    </tr>\n",
       "  </thead>\n",
       "  <tbody>\n",
       "    <tr>\n",
       "      <th>0</th>\n",
       "      <td>2024 Jeep Wagoneer Series II</td>\n",
       "      <td>\\n      \\n        Heated Leather Seats, Nav Sy...</td>\n",
       "      <td>Jeep</td>\n",
       "      <td>Wagoneer</td>\n",
       "      <td>2024</td>\n",
       "      <td>74600.0</td>\n",
       "      <td>24V GDI DOHC Twin Turbo</td>\n",
       "      <td>6.0</td>\n",
       "      <td>Gasoline</td>\n",
       "      <td>10.0</td>\n",
       "      <td>8-Speed Automatic</td>\n",
       "      <td>Series II</td>\n",
       "      <td>SUV</td>\n",
       "      <td>4.0</td>\n",
       "      <td>White</td>\n",
       "      <td>Global Black</td>\n",
       "      <td>Four-wheel Drive</td>\n",
       "    </tr>\n",
       "    <tr>\n",
       "      <th>1</th>\n",
       "      <td>2024 Jeep Grand Cherokee Laredo</td>\n",
       "      <td>Al West is committed to offering every custome...</td>\n",
       "      <td>Jeep</td>\n",
       "      <td>Grand Cherokee</td>\n",
       "      <td>2024</td>\n",
       "      <td>50170.0</td>\n",
       "      <td>OHV</td>\n",
       "      <td>6.0</td>\n",
       "      <td>Gasoline</td>\n",
       "      <td>1.0</td>\n",
       "      <td>8-Speed Automatic</td>\n",
       "      <td>Laredo</td>\n",
       "      <td>SUV</td>\n",
       "      <td>4.0</td>\n",
       "      <td>Metallic</td>\n",
       "      <td>Global Black</td>\n",
       "      <td>Four-wheel Drive</td>\n",
       "    </tr>\n",
       "    <tr>\n",
       "      <th>2</th>\n",
       "      <td>2024 GMC Yukon XL Denali</td>\n",
       "      <td>NaN</td>\n",
       "      <td>GMC</td>\n",
       "      <td>Yukon XL</td>\n",
       "      <td>2024</td>\n",
       "      <td>96410.0</td>\n",
       "      <td>6.2L V-8 gasoline direct injection, variable v...</td>\n",
       "      <td>8.0</td>\n",
       "      <td>Gasoline</td>\n",
       "      <td>0.0</td>\n",
       "      <td>Automatic</td>\n",
       "      <td>Denali</td>\n",
       "      <td>SUV</td>\n",
       "      <td>4.0</td>\n",
       "      <td>Summit White</td>\n",
       "      <td>Teak/Light Shale</td>\n",
       "      <td>Four-wheel Drive</td>\n",
       "    </tr>\n",
       "    <tr>\n",
       "      <th>3</th>\n",
       "      <td>2023 Dodge Durango Pursuit</td>\n",
       "      <td>White Knuckle Clearcoat 2023 Dodge Durango Pur...</td>\n",
       "      <td>Dodge</td>\n",
       "      <td>Durango</td>\n",
       "      <td>2023</td>\n",
       "      <td>46835.0</td>\n",
       "      <td>16V MPFI OHV</td>\n",
       "      <td>8.0</td>\n",
       "      <td>Gasoline</td>\n",
       "      <td>32.0</td>\n",
       "      <td>8-Speed Automatic</td>\n",
       "      <td>Pursuit</td>\n",
       "      <td>SUV</td>\n",
       "      <td>4.0</td>\n",
       "      <td>White Knuckle Clearcoat</td>\n",
       "      <td>Black</td>\n",
       "      <td>All-wheel Drive</td>\n",
       "    </tr>\n",
       "    <tr>\n",
       "      <th>4</th>\n",
       "      <td>2024 RAM 3500 Laramie</td>\n",
       "      <td>\\n      \\n        2024 Ram 3500 Laramie Billet...</td>\n",
       "      <td>RAM</td>\n",
       "      <td>3500</td>\n",
       "      <td>2024</td>\n",
       "      <td>81663.0</td>\n",
       "      <td>24V DDI OHV Turbo Diesel</td>\n",
       "      <td>6.0</td>\n",
       "      <td>Diesel</td>\n",
       "      <td>10.0</td>\n",
       "      <td>6-Speed Automatic</td>\n",
       "      <td>Laramie</td>\n",
       "      <td>Pickup Truck</td>\n",
       "      <td>4.0</td>\n",
       "      <td>Silver</td>\n",
       "      <td>Black</td>\n",
       "      <td>Four-wheel Drive</td>\n",
       "    </tr>\n",
       "  </tbody>\n",
       "</table>\n",
       "</div>"
      ],
      "text/plain": [
       "                              name  \\\n",
       "0     2024 Jeep Wagoneer Series II   \n",
       "1  2024 Jeep Grand Cherokee Laredo   \n",
       "2         2024 GMC Yukon XL Denali   \n",
       "3       2023 Dodge Durango Pursuit   \n",
       "4            2024 RAM 3500 Laramie   \n",
       "\n",
       "                                         description   make           model  \\\n",
       "0  \\n      \\n        Heated Leather Seats, Nav Sy...   Jeep        Wagoneer   \n",
       "1  Al West is committed to offering every custome...   Jeep  Grand Cherokee   \n",
       "2                                                NaN    GMC        Yukon XL   \n",
       "3  White Knuckle Clearcoat 2023 Dodge Durango Pur...  Dodge         Durango   \n",
       "4  \\n      \\n        2024 Ram 3500 Laramie Billet...    RAM            3500   \n",
       "\n",
       "   year    price                                             engine  \\\n",
       "0  2024  74600.0                            24V GDI DOHC Twin Turbo   \n",
       "1  2024  50170.0                                                OHV   \n",
       "2  2024  96410.0  6.2L V-8 gasoline direct injection, variable v...   \n",
       "3  2023  46835.0                                       16V MPFI OHV   \n",
       "4  2024  81663.0                           24V DDI OHV Turbo Diesel   \n",
       "\n",
       "   cylinders      fuel  mileage       transmission       trim          body  \\\n",
       "0        6.0  Gasoline     10.0  8-Speed Automatic  Series II           SUV   \n",
       "1        6.0  Gasoline      1.0  8-Speed Automatic     Laredo           SUV   \n",
       "2        8.0  Gasoline      0.0          Automatic     Denali           SUV   \n",
       "3        8.0  Gasoline     32.0  8-Speed Automatic    Pursuit           SUV   \n",
       "4        6.0    Diesel     10.0  6-Speed Automatic    Laramie  Pickup Truck   \n",
       "\n",
       "   doors           exterior_color    interior_color        drivetrain  \n",
       "0    4.0                    White      Global Black  Four-wheel Drive  \n",
       "1    4.0                 Metallic      Global Black  Four-wheel Drive  \n",
       "2    4.0             Summit White  Teak/Light Shale  Four-wheel Drive  \n",
       "3    4.0  White Knuckle Clearcoat             Black   All-wheel Drive  \n",
       "4    4.0                   Silver             Black  Four-wheel Drive  "
      ]
     },
     "execution_count": 61,
     "metadata": {},
     "output_type": "execute_result"
    }
   ],
   "source": [
    "df = pd.read_csv('../data/Vehicle Price.csv')\n",
    "print(f'CSV file loaded succesfully!')\n",
    "df.head()"
   ]
  },
  {
   "cell_type": "markdown",
   "id": "cb08fc27",
   "metadata": {},
   "source": [
    "## Preprocess"
   ]
  },
  {
   "cell_type": "code",
   "execution_count": 62,
   "id": "979dd855",
   "metadata": {},
   "outputs": [
    {
     "name": "stdout",
     "output_type": "stream",
     "text": [
      "The dataframe is composed by 1002 observations & 17 columns.\n"
     ]
    }
   ],
   "source": [
    "print(f'The dataframe is composed by {df.shape[0]} observations & {df.shape[1]} columns.')"
   ]
  },
  {
   "cell_type": "code",
   "execution_count": 63,
   "id": "da526919",
   "metadata": {},
   "outputs": [
    {
     "name": "stdout",
     "output_type": "stream",
     "text": [
      "<class 'pandas.core.frame.DataFrame'>\n",
      "RangeIndex: 1002 entries, 0 to 1001\n",
      "Data columns (total 17 columns):\n",
      " #   Column          Non-Null Count  Dtype  \n",
      "---  ------          --------------  -----  \n",
      " 0   name            1002 non-null   object \n",
      " 1   description     946 non-null    object \n",
      " 2   make            1002 non-null   object \n",
      " 3   model           1002 non-null   object \n",
      " 4   year            1002 non-null   int64  \n",
      " 5   price           979 non-null    float64\n",
      " 6   engine          1000 non-null   object \n",
      " 7   cylinders       897 non-null    float64\n",
      " 8   fuel            995 non-null    object \n",
      " 9   mileage         968 non-null    float64\n",
      " 10  transmission    1000 non-null   object \n",
      " 11  trim            1001 non-null   object \n",
      " 12  body            999 non-null    object \n",
      " 13  doors           995 non-null    float64\n",
      " 14  exterior_color  997 non-null    object \n",
      " 15  interior_color  964 non-null    object \n",
      " 16  drivetrain      1002 non-null   object \n",
      "dtypes: float64(4), int64(1), object(12)\n",
      "memory usage: 133.2+ KB\n"
     ]
    }
   ],
   "source": [
    "df.info()"
   ]
  },
  {
   "cell_type": "code",
   "execution_count": 64,
   "id": "e93f9c6d",
   "metadata": {},
   "outputs": [
    {
     "name": "stdout",
     "output_type": "stream",
     "text": [
      "Number of null values: 283\n",
      "Every null value:\n",
      "name                0\n",
      "description        56\n",
      "make                0\n",
      "model               0\n",
      "year                0\n",
      "price              23\n",
      "engine              2\n",
      "cylinders         105\n",
      "fuel                7\n",
      "mileage            34\n",
      "transmission        2\n",
      "trim                1\n",
      "body                3\n",
      "doors               7\n",
      "exterior_color      5\n",
      "interior_color     38\n",
      "drivetrain          0\n",
      "dtype: int64\n"
     ]
    }
   ],
   "source": [
    "print(f'Number of null values: {df.isna().sum().sum()}')\n",
    "print(f'Every null value:\\n{df.isna().sum()}')"
   ]
  },
  {
   "cell_type": "markdown",
   "id": "6985bbe3",
   "metadata": {},
   "source": [
    "There are some null values & some columns which are in wrong types. Preprocess will begin with correcting null values.\n",
    "\n",
    "First, i noticed that there are some null values on the Price column. This is a essential column, so if there are no price, the observation should not exist. I will drop the observations whose price column is empty."
   ]
  },
  {
   "cell_type": "code",
   "execution_count": 65,
   "id": "9765e17d",
   "metadata": {},
   "outputs": [
    {
     "name": "stdout",
     "output_type": "stream",
     "text": [
      "Null values from the Price column dropped successfully!\n"
     ]
    }
   ],
   "source": [
    "# Droping null values from the Price column.\n",
    "df = df.dropna(subset=['price'])\n",
    "print(f'Null values from the Price column dropped successfully!')"
   ]
  },
  {
   "cell_type": "code",
   "execution_count": 66,
   "id": "f5b0e5f9",
   "metadata": {},
   "outputs": [
    {
     "name": "stdout",
     "output_type": "stream",
     "text": [
      "Number of null values: 256\n",
      "Every null value:\n",
      "name                0\n",
      "description        56\n",
      "make                0\n",
      "model               0\n",
      "year                0\n",
      "price               0\n",
      "engine              2\n",
      "cylinders         102\n",
      "fuel                7\n",
      "mileage            34\n",
      "transmission        2\n",
      "trim                1\n",
      "body                3\n",
      "doors               7\n",
      "exterior_color      5\n",
      "interior_color     37\n",
      "drivetrain          0\n",
      "dtype: int64\n"
     ]
    }
   ],
   "source": [
    "# Checking new number of null values.\n",
    "print(f'Number of null values: {df.isna().sum().sum()}')\n",
    "print(f'Every null value:\\n{df.isna().sum()}')"
   ]
  },
  {
   "cell_type": "markdown",
   "id": "79c7ac62",
   "metadata": {},
   "source": [
    "Cylinders is an important column and it has a great amount of null values. I will do some research of the column to take an action."
   ]
  },
  {
   "cell_type": "code",
   "execution_count": 67,
   "id": "89ff4ad7",
   "metadata": {},
   "outputs": [
    {
     "data": {
      "text/plain": [
       "array([ 6.,  8.,  4., nan,  3.,  0.])"
      ]
     },
     "execution_count": 67,
     "metadata": {},
     "output_type": "execute_result"
    }
   ],
   "source": [
    "df['cylinders'].unique()"
   ]
  },
  {
   "cell_type": "markdown",
   "id": "7edac2c2",
   "metadata": {},
   "source": [
    "As we know, it is impossible for a car to have 0 cylinders, so thats a null value too."
   ]
  },
  {
   "cell_type": "code",
   "execution_count": 68,
   "id": "11661ad7",
   "metadata": {},
   "outputs": [
    {
     "name": "stdout",
     "output_type": "stream",
     "text": [
      "Value Counts of the Cylinders column:\n",
      "cylinders\n",
      "4.0    489\n",
      "6.0    272\n",
      "8.0     87\n",
      "3.0     27\n",
      "0.0      2\n",
      "Name: count, dtype: int64\n"
     ]
    }
   ],
   "source": [
    "print('Value Counts of the Cylinders column:')\n",
    "print(df['cylinders'].value_counts())"
   ]
  },
  {
   "cell_type": "markdown",
   "id": "e87fc0ee",
   "metadata": {},
   "source": [
    "The mayority of cars have 4 cylinders, and other amount has 6. First, I will start by turning the 0 values into NaN."
   ]
  },
  {
   "cell_type": "code",
   "execution_count": 69,
   "id": "e4411807",
   "metadata": {},
   "outputs": [],
   "source": [
    "df['cylinders'] = df['cylinders'].replace(0.0, np.nan)"
   ]
  },
  {
   "cell_type": "markdown",
   "id": "066a5940",
   "metadata": {},
   "source": [
    "100 null values are too many null values too drop or impute in a single columns. For this reason, i will do a random ponderated impute."
   ]
  },
  {
   "cell_type": "code",
   "execution_count": 70,
   "id": "8cfa073a",
   "metadata": {},
   "outputs": [
    {
     "name": "stdout",
     "output_type": "stream",
     "text": [
      "Distribution of Cylinders (%):\n",
      "cylinders\n",
      "4.0    0.558857\n",
      "6.0    0.310857\n",
      "8.0    0.099429\n",
      "3.0    0.030857\n",
      "Name: proportion, dtype: float64\n"
     ]
    }
   ],
   "source": [
    "# Distribution in percentage of values.\n",
    "distribution_cyl = df['cylinders'].value_counts(normalize=True)\n",
    "print('Distribution of Cylinders (%):')\n",
    "print(distribution_cyl)"
   ]
  },
  {
   "cell_type": "code",
   "execution_count": 71,
   "id": "512b0ea8",
   "metadata": {},
   "outputs": [
    {
     "name": "stdout",
     "output_type": "stream",
     "text": [
      "Null values from the Cylinders column imputed successfully!\n"
     ]
    }
   ],
   "source": [
    "# Transforming the distribution to list.\n",
    "values = distribution_cyl.index.tolist()\n",
    "weights = distribution_cyl.values.tolist()\n",
    "\n",
    "# Obtaining indexs of NaN values.\n",
    "nan_index = df[df['cylinders'].isna()].index\n",
    "\n",
    "# Generating random values based on the distribution.\n",
    "random_values = np.random.choice(values, size=len(nan_index), p=weights)\n",
    "\n",
    "# Imputing the random values into the NaN indexs.\n",
    "df.loc[nan_index, 'cylinders'] = random_values\n",
    "print(f'Null values from the Cylinders column imputed successfully!')\n"
   ]
  },
  {
   "cell_type": "code",
   "execution_count": 72,
   "id": "97c69318",
   "metadata": {},
   "outputs": [
    {
     "name": "stdout",
     "output_type": "stream",
     "text": [
      "Value Counts of the Cylinders column:\n",
      "cylinders\n",
      "4.0    550\n",
      "6.0    307\n",
      "8.0     92\n",
      "3.0     30\n",
      "Name: count, dtype: int64\n"
     ]
    }
   ],
   "source": [
    "print('Value Counts of the Cylinders column:')\n",
    "print(df['cylinders'].value_counts())"
   ]
  },
  {
   "cell_type": "code",
   "execution_count": 73,
   "id": "49c364fa",
   "metadata": {},
   "outputs": [
    {
     "name": "stdout",
     "output_type": "stream",
     "text": [
      "Number of null values: 154\n",
      "Every null value:\n",
      "name               0\n",
      "description       56\n",
      "make               0\n",
      "model              0\n",
      "year               0\n",
      "price              0\n",
      "engine             2\n",
      "cylinders          0\n",
      "fuel               7\n",
      "mileage           34\n",
      "transmission       2\n",
      "trim               1\n",
      "body               3\n",
      "doors              7\n",
      "exterior_color     5\n",
      "interior_color    37\n",
      "drivetrain         0\n",
      "dtype: int64\n"
     ]
    }
   ],
   "source": [
    "# Checking new number of null values.\n",
    "print(f'Number of null values: {df.isna().sum().sum()}')\n",
    "print(f'Every null value:\\n{df.isna().sum()}')"
   ]
  },
  {
   "cell_type": "markdown",
   "id": "99846704",
   "metadata": {},
   "source": [
    "Next stop in handling null values is the description column. Description is a text free columns (object) that will not be easy for the ML library to use. It has some null values and the columns doesn't have much importance by itself. Therefore, the column will be dropped. Same happens with name. All important info of the name columns is on other columns."
   ]
  },
  {
   "cell_type": "code",
   "execution_count": 74,
   "id": "6136ebec",
   "metadata": {},
   "outputs": [
    {
     "name": "stdout",
     "output_type": "stream",
     "text": [
      "Description column dropped successfully!\n",
      "Name column dropped successfully!\n"
     ]
    }
   ],
   "source": [
    "# Droping the description column.\n",
    "df = df.drop(columns=['description'])\n",
    "df = df.drop(columns=['name'])\n",
    "print(f'Description column dropped successfully!')\n",
    "print(f'Name column dropped successfully!')"
   ]
  },
  {
   "cell_type": "code",
   "execution_count": 75,
   "id": "335d6eec",
   "metadata": {},
   "outputs": [
    {
     "name": "stdout",
     "output_type": "stream",
     "text": [
      "Number of null values: 98\n",
      "Every null value:\n",
      "make               0\n",
      "model              0\n",
      "year               0\n",
      "price              0\n",
      "engine             2\n",
      "cylinders          0\n",
      "fuel               7\n",
      "mileage           34\n",
      "transmission       2\n",
      "trim               1\n",
      "body               3\n",
      "doors              7\n",
      "exterior_color     5\n",
      "interior_color    37\n",
      "drivetrain         0\n",
      "dtype: int64\n"
     ]
    }
   ],
   "source": [
    "# Checking new number of null values.\n",
    "print(f'Number of null values: {df.isna().sum().sum()}')\n",
    "print(f'Every null value:\\n{df.isna().sum()}')"
   ]
  },
  {
   "cell_type": "markdown",
   "id": "856e3539",
   "metadata": {},
   "source": [
    "Checking values distribution for the next columns with null values."
   ]
  },
  {
   "cell_type": "code",
   "execution_count": 76,
   "id": "a4a506f9",
   "metadata": {},
   "outputs": [
    {
     "name": "stdout",
     "output_type": "stream",
     "text": [
      "Fuel unique values: ['Gasoline' 'Diesel' 'Hybrid' 'Electric' 'E85 Flex Fuel'\n",
      " 'PHEV Hybrid Fuel' nan 'Diesel (B20 capable)']\n",
      "Fuel distribution:\n",
      "fuel\n",
      "Gasoline                647\n",
      "Hybrid                  135\n",
      "Electric                 96\n",
      "Diesel                   72\n",
      "PHEV Hybrid Fuel         16\n",
      "E85 Flex Fuel             5\n",
      "Diesel (B20 capable)      1\n",
      "Name: count, dtype: int64\n"
     ]
    }
   ],
   "source": [
    "print(f'Fuel unique values: {df['fuel'].unique()}')\n",
    "print(f'Fuel distribution:\\n{df['fuel'].value_counts()}')"
   ]
  },
  {
   "cell_type": "markdown",
   "id": "06296e8d",
   "metadata": {},
   "source": [
    "Fuel columns has only 7 null values that will be imputed by mode."
   ]
  },
  {
   "cell_type": "code",
   "execution_count": 77,
   "id": "653b81ef",
   "metadata": {},
   "outputs": [
    {
     "name": "stdout",
     "output_type": "stream",
     "text": [
      "Null values from the Fuel column imputed successfully!\n"
     ]
    }
   ],
   "source": [
    "# Imputing null values in the fuel column by mode.\n",
    "df['fuel'] = df['fuel'].fillna(df['fuel'].mode()[0])\n",
    "print(f'Null values from the Fuel column imputed successfully!')"
   ]
  },
  {
   "cell_type": "markdown",
   "id": "9d87bc69",
   "metadata": {},
   "source": [
    "Repeating process with engine column."
   ]
  },
  {
   "cell_type": "code",
   "execution_count": 78,
   "id": "30c9dd90",
   "metadata": {},
   "outputs": [
    {
     "name": "stdout",
     "output_type": "stream",
     "text": [
      "Number of unique values in the engine column: 100\n",
      "Engine unique values: engine\n",
      "16V GDI DOHC Turbo                                           120\n",
      "16V GDI DOHC Turbo Hybrid                                     92\n",
      "c                                                             92\n",
      "24V MPFI DOHC                                                 53\n",
      "16V MPFI OHV                                                  46\n",
      "                                                            ... \n",
      "16V MPFI DOHC Hybrid                                           1\n",
      "o                                                              1\n",
      "4L V-8 VVT variable valve control, regular unleaded, engi      1\n",
      "DOHC, D-CVVT variable valve control, regular unleaded, en      1\n",
      "8 gasoline direct injection, variable valve control, regu      1\n",
      "Name: count, Length: 100, dtype: int64\n"
     ]
    }
   ],
   "source": [
    "print(f'Number of unique values in the engine column: {df['engine'].nunique()}')\n",
    "# Showing the distribution of the engine column.\n",
    "print(f'Engine unique values: {df['engine'].value_counts()}')\n"
   ]
  },
  {
   "cell_type": "code",
   "execution_count": 79,
   "id": "e73b6924",
   "metadata": {},
   "outputs": [
    {
     "name": "stdout",
     "output_type": "stream",
     "text": [
      "Null values from the Engine column imputed successfully!\n"
     ]
    }
   ],
   "source": [
    "# Imputing null values in the fuel column by mode.\n",
    "df['engine'] = df['engine'].fillna(df['engine'].mode()[0])\n",
    "print(f'Null values from the Engine column imputed successfully!')"
   ]
  },
  {
   "cell_type": "code",
   "execution_count": 80,
   "id": "61d61073",
   "metadata": {},
   "outputs": [
    {
     "name": "stdout",
     "output_type": "stream",
     "text": [
      "Number of null values: 89\n",
      "Every null value:\n",
      "make               0\n",
      "model              0\n",
      "year               0\n",
      "price              0\n",
      "engine             0\n",
      "cylinders          0\n",
      "fuel               0\n",
      "mileage           34\n",
      "transmission       2\n",
      "trim               1\n",
      "body               3\n",
      "doors              7\n",
      "exterior_color     5\n",
      "interior_color    37\n",
      "drivetrain         0\n",
      "dtype: int64\n"
     ]
    }
   ],
   "source": [
    "# Checking new number of null values.\n",
    "print(f'Number of null values: {df.isna().sum().sum()}')\n",
    "print(f'Every null value:\\n{df.isna().sum()}')"
   ]
  },
  {
   "cell_type": "markdown",
   "id": "6b03888f",
   "metadata": {},
   "source": [
    "Checking data from mileage column."
   ]
  },
  {
   "cell_type": "code",
   "execution_count": 81,
   "id": "d32852b8",
   "metadata": {},
   "outputs": [
    {
     "name": "stdout",
     "output_type": "stream",
     "text": [
      "Number of unique values in the mileage column: 91\n",
      "Mileage unique values: mileage\n",
      "5.0      113\n",
      "0.0      109\n",
      "10.0     103\n",
      "1.0       58\n",
      "6.0       50\n",
      "        ... \n",
      "241.0      1\n",
      "66.0       1\n",
      "41.0       1\n",
      "141.0      1\n",
      "296.0      1\n",
      "Name: count, Length: 91, dtype: int64\n"
     ]
    }
   ],
   "source": [
    "# Number of unique values.\n",
    "print(f'Number of unique values in the mileage column: {df['mileage'].nunique()}')\n",
    "# Distribution.\n",
    "print(f'Mileage unique values: {df['mileage'].value_counts()}')"
   ]
  },
  {
   "cell_type": "code",
   "execution_count": 82,
   "id": "b8376870",
   "metadata": {},
   "outputs": [
    {
     "name": "stdout",
     "output_type": "stream",
     "text": [
      "Null values in the Mileage column:\n",
      "           make               model  year    price                     engine  \\\n",
      "27     Chrysler            Pacifica  2024  48705.0              24V MPFI DOHC   \n",
      "47       Subaru             Outback  2024  44354.0         16V GDI DOHC Turbo   \n",
      "63         Jeep    Grand Cherokee L  2024  51360.0              24V MPFI DOHC   \n",
      "73         Jeep            Wagoneer  2024  63057.0    24V GDI DOHC Twin Turbo   \n",
      "84         Jeep    Grand Cherokee L  2024  49390.0                        OHV   \n",
      "87        Buick             Envista  2024  31805.0         12V GDI DOHC Turbo   \n",
      "93         Ford              Ranger  2024  38740.0         16V GDI DOHC Turbo   \n",
      "177     Lincoln            Nautilus  2024  64370.0         16V GDI DOHC Turbo   \n",
      "217        Jeep        Wrangler 4xe  2024  50755.0  16V GDI DOHC Turbo Hybrid   \n",
      "219       Honda            Prologue  2024  55800.0                          c   \n",
      "225  Volkswagen                Taos  2024  25895.0         16V GDI DOHC Turbo   \n",
      "234        Jeep            Wagoneer  2024  65928.0    24V GDI DOHC Twin Turbo   \n",
      "261        Jeep            Wagoneer  2024  72908.0    24V GDI DOHC Twin Turbo   \n",
      "262        Jeep             Compass  2023  37105.0         16V GDI DOHC Turbo   \n",
      "365        Jeep             Compass  2024  38481.0         16V GDI DOHC Turbo   \n",
      "399        Jeep            Wagoneer  2024  75888.0    24V GDI DOHC Twin Turbo   \n",
      "461       Dodge              Hornet  2024  30900.0         16V GDI DOHC Turbo   \n",
      "476      Subaru             Outback  2024  44354.0         16V GDI DOHC Turbo   \n",
      "489       Honda            Prologue  2024  55800.0                          c   \n",
      "490       Honda            Prologue  2024  55800.0                          c   \n",
      "503    Chrysler            Pacifica  2024  46163.0              24V MPFI DOHC   \n",
      "594        Jeep        Wrangler 4xe  2024  51350.0  16V GDI DOHC Turbo Hybrid   \n",
      "596        Jeep        Wrangler 4xe  2023  63715.0  16V GDI DOHC Turbo Hybrid   \n",
      "607        Jeep          Wagoneer L  2024  83845.0    24V GDI DOHC Twin Turbo   \n",
      "628       Dodge              Hornet  2024  49885.0  16V GDI DOHC Turbo Hybrid   \n",
      "629      Toyota             Corolla  2024  22623.0               16V PDI DOHC   \n",
      "801      Subaru             Outback  2024  32490.0               16V GDI DOHC   \n",
      "847        Jeep  Grand Cherokee 4xe  2024  78655.0  16V GDI DOHC Turbo Hybrid   \n",
      "879        Jeep    Grand Cherokee L  2024  49390.0                        OHV   \n",
      "885     Hyundai       Tucson Hybrid  2024  37215.0  16V GDI DOHC Turbo Hybrid   \n",
      "906       Buick             Envista  2024  31805.0         12V GDI DOHC Turbo   \n",
      "916        Jeep      Grand Cherokee  2024  49842.0              24V MPFI DOHC   \n",
      "922      Subaru             Outback  2024  39822.0               16V GDI DOHC   \n",
      "980         Kia               Forte  2024  21070.0              16V MPFI DOHC   \n",
      "\n",
      "     cylinders      fuel  mileage                    transmission  \\\n",
      "27         6.0  Gasoline      NaN               9-Speed Automatic   \n",
      "47         4.0  Gasoline      NaN                   Automatic CVT   \n",
      "63         6.0  Gasoline      NaN               8-Speed Automatic   \n",
      "73         6.0  Gasoline      NaN               8-Speed Automatic   \n",
      "84         6.0  Gasoline      NaN               8-Speed Automatic   \n",
      "87         3.0  Gasoline      NaN               6-Speed Automatic   \n",
      "93         4.0  Gasoline      NaN              10-Speed Automatic   \n",
      "177        4.0  Gasoline      NaN               8-Speed Automatic   \n",
      "217        4.0    Hybrid      NaN               8-Speed Automatic   \n",
      "219        6.0  Gasoline      NaN               1-Speed Automatic   \n",
      "225        4.0  Gasoline      NaN  7-Speed DSGA? Automatic w/ 4MO   \n",
      "234        6.0  Gasoline      NaN               8-Speed Automatic   \n",
      "261        6.0  Gasoline      NaN               8-Speed Automatic   \n",
      "262        4.0  Gasoline      NaN               8-Speed Automatic   \n",
      "365        4.0  Gasoline      NaN               8-Speed Automatic   \n",
      "399        6.0  Gasoline      NaN               8-Speed Automatic   \n",
      "461        4.0  Gasoline      NaN               9-Speed Automatic   \n",
      "476        4.0  Gasoline      NaN                   Automatic CVT   \n",
      "489        4.0  Gasoline      NaN               1-Speed Automatic   \n",
      "490        4.0  Gasoline      NaN               1-Speed Automatic   \n",
      "503        6.0  Gasoline      NaN               9-Speed Automatic   \n",
      "594        4.0    Hybrid      NaN               8-Speed Automatic   \n",
      "596        4.0    Hybrid      NaN               8-Speed Automatic   \n",
      "607        6.0  Gasoline      NaN               8-Speed Automatic   \n",
      "628        4.0    Hybrid      NaN               6-Speed Automatic   \n",
      "629        4.0  Gasoline      NaN                   Automatic CVT   \n",
      "801        4.0  Gasoline      NaN                   Automatic CVT   \n",
      "847        4.0    Hybrid      NaN               8-Speed Automatic   \n",
      "879        6.0  Gasoline      NaN               8-Speed Automatic   \n",
      "885        4.0    Hybrid      NaN               6-Speed Automatic   \n",
      "906        3.0  Gasoline      NaN               6-Speed Automatic   \n",
      "916        6.0  Gasoline      NaN               8-Speed Automatic   \n",
      "922        4.0  Gasoline      NaN                   Automatic CVT   \n",
      "980        4.0  Gasoline      NaN                   Automatic CVT   \n",
      "\n",
      "                trim           body  doors  \\\n",
      "27         Touring-L  Passenger Van    4.0   \n",
      "47        Wilderness            SUV    4.0   \n",
      "63           Limited            SUV    4.0   \n",
      "73              Base            SUV    4.0   \n",
      "84           Limited            SUV    4.0   \n",
      "87            Avenir            SUV    4.0   \n",
      "93                XL   Pickup Truck    4.0   \n",
      "177          Reserve            SUV    4.0   \n",
      "217            Sport            SUV    4.0   \n",
      "219          TOURING            SUV    4.0   \n",
      "225           1.5T S            SUV    4.0   \n",
      "234             Base            SUV    4.0   \n",
      "261        Series II            SUV    4.0   \n",
      "262        Trailhawk            SUV    4.0   \n",
      "365          Limited            SUV    4.0   \n",
      "399        Series II            SUV    4.0   \n",
      "461               GT            SUV    4.0   \n",
      "476       Wilderness            SUV    4.0   \n",
      "489          TOURING            SUV    4.0   \n",
      "490          TOURING            SUV    4.0   \n",
      "503        Touring-L  Passenger Van    4.0   \n",
      "594            Sport            SUV    4.0   \n",
      "596           Sahara            SUV    4.0   \n",
      "607        Series II            SUV    4.0   \n",
      "628         R/T Plus            SUV    4.0   \n",
      "629               LE          Sedan    4.0   \n",
      "801          Premium            SUV    4.0   \n",
      "847         Overland            SUV    4.0   \n",
      "879          Limited            SUV    4.0   \n",
      "885  SEL Convenience            SUV    4.0   \n",
      "906           Avenir            SUV    4.0   \n",
      "916          Limited            SUV    4.0   \n",
      "922          Limited            SUV    4.0   \n",
      "980              LXS          Sedan    4.0   \n",
      "\n",
      "                         exterior_color interior_color         drivetrain  \n",
      "27                        Diamond Black          Black    All-wheel Drive  \n",
      "47                            Magnetite           Gray    All-wheel Drive  \n",
      "63               Bright White Clearcoat  Beige / Black   Rear-wheel Drive  \n",
      "73                             Metallic          Black   Four-wheel Drive  \n",
      "84                        Diamond Black   Global Black   Four-wheel Drive  \n",
      "87                  Ocean Blue Metallic          Ebony  Front-wheel Drive  \n",
      "93             Carbonized Gray Metallic          Ebony   Four-wheel Drive  \n",
      "177                       Gray Metallic     Black Onyx    All-wheel Drive  \n",
      "217              Bright White Clearcoat          Black   Four-wheel Drive  \n",
      "219                                  BX           Gray    All-wheel Drive  \n",
      "225             Deep Black Pearl Effect          Black    All-wheel Drive  \n",
      "234              Bright White Clearcoat          Black   Four-wheel Drive  \n",
      "261                       Diamond Black          Black   Four-wheel Drive  \n",
      "262  Granite Crystal Clearcoat Metallic       Ruby Red   Four-wheel Drive  \n",
      "365                       Silver Zynith  Sepia / Black   Four-wheel Drive  \n",
      "399                     Riverrock Green          Black   Four-wheel Drive  \n",
      "461                              8 BALL          Black    All-wheel Drive  \n",
      "476                        Autumn Green           Gray    All-wheel Drive  \n",
      "489                               Pearl          Black    All-wheel Drive  \n",
      "490                                Gray          Black    All-wheel Drive  \n",
      "503              Bright White Clearcoat          Black  Front-wheel Drive  \n",
      "594                     Anvil Clearcoat          Black   Four-wheel Drive  \n",
      "596             Silver Zynith Clearcoat          Black   Four-wheel Drive  \n",
      "607              Bright White Clearcoat          Black   Four-wheel Drive  \n",
      "628                          Blue Steel          Black    All-wheel Drive  \n",
      "629                              Silver          Black  Front-wheel Drive  \n",
      "801                 Crystal White Pearl          Black    All-wheel Drive  \n",
      "847                        Midnight Sky   Global Black   Four-wheel Drive  \n",
      "879                       Diamond Black   Global Black   Four-wheel Drive  \n",
      "885                         Black Pearl           Gray    All-wheel Drive  \n",
      "906                 Ocean Blue Metallic          Ebony  Front-wheel Drive  \n",
      "916              Bright White Clearcoat  Beige / Black   Four-wheel Drive  \n",
      "922                 Crystal White Pearl          Black    All-wheel Drive  \n",
      "980                          Steel Gray          Black  Front-wheel Drive  \n"
     ]
    }
   ],
   "source": [
    "# Showing values whre mileage is null.\n",
    "print(f'Null values in the Mileage column:\\n{df[df['mileage'].isna()]}')"
   ]
  },
  {
   "cell_type": "code",
   "execution_count": 83,
   "id": "a337db96",
   "metadata": {},
   "outputs": [
    {
     "data": {
      "text/plain": [
       "make                                  Ford\n",
       "model                               Ranger\n",
       "year                                  2024\n",
       "price                              38740.0\n",
       "engine                  16V GDI DOHC Turbo\n",
       "cylinders                              4.0\n",
       "fuel                              Gasoline\n",
       "mileage                                NaN\n",
       "transmission            10-Speed Automatic\n",
       "trim                                    XL\n",
       "body                          Pickup Truck\n",
       "doors                                  4.0\n",
       "exterior_color    Carbonized Gray Metallic\n",
       "interior_color                       Ebony\n",
       "drivetrain                Four-wheel Drive\n",
       "Name: 93, dtype: object"
      ]
     },
     "execution_count": 83,
     "metadata": {},
     "output_type": "execute_result"
    }
   ],
   "source": [
    "df.iloc[93]"
   ]
  },
  {
   "cell_type": "markdown",
   "id": "f6a06b52",
   "metadata": {},
   "source": [
    "After checking for some observations, the mayority of null values on this column are new cars (based on their price). Therefore, i will change Nan for 0."
   ]
  },
  {
   "cell_type": "code",
   "execution_count": 84,
   "id": "50579b56",
   "metadata": {},
   "outputs": [
    {
     "name": "stdout",
     "output_type": "stream",
     "text": [
      "Null values from the Mileage column imputed successfully!\n"
     ]
    }
   ],
   "source": [
    "# Turning NaN values into 0.\n",
    "df['mileage'] = df['mileage'].fillna(0)\n",
    "print(f'Null values from the Mileage column imputed successfully!')"
   ]
  },
  {
   "cell_type": "markdown",
   "id": "be45b370",
   "metadata": {},
   "source": [
    "Continuing with interior color."
   ]
  },
  {
   "cell_type": "code",
   "execution_count": 85,
   "id": "a0c0500d",
   "metadata": {},
   "outputs": [
    {
     "name": "stdout",
     "output_type": "stream",
     "text": [
      "Number of unique values on Interior Color: 90\n",
      "Interior Color unique values: interior_color\n",
      "Black           497\n",
      "Global Black     83\n",
      "Gray             76\n",
      "Jet Black        45\n",
      "Ebony            38\n",
      "               ... \n",
      "Caramel           1\n",
      "gray              1\n",
      "Dark Palazzo      1\n",
      "Gray/Black        1\n",
      "Navy Pier         1\n",
      "Name: count, Length: 90, dtype: int64\n"
     ]
    }
   ],
   "source": [
    "# Unique values of interior color.\n",
    "print(f'Number of unique values on Interior Color: {df['interior_color'].nunique()}')\n",
    "# Distribution of interior color.\n",
    "print(f'Interior Color unique values: {df['interior_color'].value_counts()}')"
   ]
  },
  {
   "cell_type": "markdown",
   "id": "d17d62df",
   "metadata": {},
   "source": [
    "Most of the car has black as interior color. I don't think this is one the most important columns, so i will impute the null data with mode."
   ]
  },
  {
   "cell_type": "code",
   "execution_count": 86,
   "id": "dad10643",
   "metadata": {},
   "outputs": [
    {
     "name": "stdout",
     "output_type": "stream",
     "text": [
      "Null values from the Interior Color column imputed successfully!\n"
     ]
    }
   ],
   "source": [
    "# Imputing null values in the interior color column by mode.\n",
    "df['interior_color'] = df['interior_color'].fillna(df['interior_color'].mode()[0])\n",
    "print(f'Null values from the Interior Color column imputed successfully!')"
   ]
  },
  {
   "cell_type": "code",
   "execution_count": 87,
   "id": "1b7b8124",
   "metadata": {},
   "outputs": [
    {
     "name": "stdout",
     "output_type": "stream",
     "text": [
      "Number of null values: 18\n",
      "Every null value:\n",
      "make              0\n",
      "model             0\n",
      "year              0\n",
      "price             0\n",
      "engine            0\n",
      "cylinders         0\n",
      "fuel              0\n",
      "mileage           0\n",
      "transmission      2\n",
      "trim              1\n",
      "body              3\n",
      "doors             7\n",
      "exterior_color    5\n",
      "interior_color    0\n",
      "drivetrain        0\n",
      "dtype: int64\n"
     ]
    }
   ],
   "source": [
    "# Checking new number of null values.\n",
    "print(f'Number of null values: {df.isna().sum().sum()}')\n",
    "print(f'Every null value:\\n{df.isna().sum()}')"
   ]
  },
  {
   "cell_type": "markdown",
   "id": "7ab66fc8",
   "metadata": {},
   "source": [
    "Finally, all this columns have less than 10 null values, so all of them will be imputed by mode."
   ]
  },
  {
   "cell_type": "code",
   "execution_count": 88,
   "id": "0abdcf42",
   "metadata": {},
   "outputs": [
    {
     "name": "stdout",
     "output_type": "stream",
     "text": [
      "Null values from the transmission column imputed successfully!\n",
      "Null values from the trim column imputed successfully!\n",
      "Null values from the body column imputed successfully!\n",
      "Null values from the doors column imputed successfully!\n",
      "Null values from the exterior_color column imputed successfully!\n"
     ]
    }
   ],
   "source": [
    "# Imputing null values in the transmission, trim, body, doors and exterior color columns by mode.\n",
    "columns_to_impute = ['transmission', 'trim', 'body', 'doors', 'exterior_color']\n",
    "for column in columns_to_impute:\n",
    "    df[column] = df[column].fillna(df[column].mode()[0])\n",
    "    print(f'Null values from the {column} column imputed successfully!')"
   ]
  },
  {
   "cell_type": "code",
   "execution_count": 89,
   "id": "0ea0525e",
   "metadata": {},
   "outputs": [
    {
     "name": "stdout",
     "output_type": "stream",
     "text": [
      "Number of null values: 0\n"
     ]
    }
   ],
   "source": [
    "print(f'Number of null values: {df.isna().sum().sum()}')"
   ]
  },
  {
   "cell_type": "markdown",
   "id": "34aa00ed",
   "metadata": {},
   "source": [
    "I will finish the preprocess section changing some float types columns to int columns."
   ]
  },
  {
   "cell_type": "code",
   "execution_count": 90,
   "id": "58eceac8",
   "metadata": {},
   "outputs": [
    {
     "name": "stdout",
     "output_type": "stream",
     "text": [
      "<class 'pandas.core.frame.DataFrame'>\n",
      "Index: 979 entries, 0 to 1001\n",
      "Data columns (total 15 columns):\n",
      " #   Column          Non-Null Count  Dtype  \n",
      "---  ------          --------------  -----  \n",
      " 0   make            979 non-null    object \n",
      " 1   model           979 non-null    object \n",
      " 2   year            979 non-null    int64  \n",
      " 3   price           979 non-null    float64\n",
      " 4   engine          979 non-null    object \n",
      " 5   cylinders       979 non-null    float64\n",
      " 6   fuel            979 non-null    object \n",
      " 7   mileage         979 non-null    float64\n",
      " 8   transmission    979 non-null    object \n",
      " 9   trim            979 non-null    object \n",
      " 10  body            979 non-null    object \n",
      " 11  doors           979 non-null    float64\n",
      " 12  exterior_color  979 non-null    object \n",
      " 13  interior_color  979 non-null    object \n",
      " 14  drivetrain      979 non-null    object \n",
      "dtypes: float64(4), int64(1), object(10)\n",
      "memory usage: 154.7+ KB\n"
     ]
    }
   ],
   "source": [
    "df.info()"
   ]
  },
  {
   "cell_type": "code",
   "execution_count": 91,
   "id": "1c660862",
   "metadata": {},
   "outputs": [
    {
     "name": "stdout",
     "output_type": "stream",
     "text": [
      "Column cylinders converted to int successfully!\n",
      "Column mileage converted to int successfully!\n",
      "Column doors converted to int successfully!\n"
     ]
    }
   ],
   "source": [
    "# Selecting float columns to convert to int.\n",
    "float_columns = ['cylinders','mileage','doors']\n",
    "# Converting float columns to int.\n",
    "for col in float_columns:\n",
    "    df[col] = df[col].astype(int)\n",
    "    print(f'Column {col} converted to int successfully!')\n"
   ]
  },
  {
   "cell_type": "markdown",
   "id": "d2ecf57d",
   "metadata": {},
   "source": [
    "## EDA\n",
    "\n",
    "My next step is going to be to make a research of the dataset."
   ]
  },
  {
   "cell_type": "code",
   "execution_count": 92,
   "id": "00ef332b",
   "metadata": {},
   "outputs": [
    {
     "data": {
      "text/html": [
       "<div>\n",
       "<style scoped>\n",
       "    .dataframe tbody tr th:only-of-type {\n",
       "        vertical-align: middle;\n",
       "    }\n",
       "\n",
       "    .dataframe tbody tr th {\n",
       "        vertical-align: top;\n",
       "    }\n",
       "\n",
       "    .dataframe thead th {\n",
       "        text-align: right;\n",
       "    }\n",
       "</style>\n",
       "<table border=\"1\" class=\"dataframe\">\n",
       "  <thead>\n",
       "    <tr style=\"text-align: right;\">\n",
       "      <th></th>\n",
       "      <th>make</th>\n",
       "      <th>model</th>\n",
       "      <th>year</th>\n",
       "      <th>price</th>\n",
       "      <th>engine</th>\n",
       "      <th>cylinders</th>\n",
       "      <th>fuel</th>\n",
       "      <th>mileage</th>\n",
       "      <th>transmission</th>\n",
       "      <th>trim</th>\n",
       "      <th>body</th>\n",
       "      <th>doors</th>\n",
       "      <th>exterior_color</th>\n",
       "      <th>interior_color</th>\n",
       "      <th>drivetrain</th>\n",
       "    </tr>\n",
       "  </thead>\n",
       "  <tbody>\n",
       "    <tr>\n",
       "      <th>0</th>\n",
       "      <td>Jeep</td>\n",
       "      <td>Wagoneer</td>\n",
       "      <td>2024</td>\n",
       "      <td>74600.0</td>\n",
       "      <td>24V GDI DOHC Twin Turbo</td>\n",
       "      <td>6</td>\n",
       "      <td>Gasoline</td>\n",
       "      <td>10</td>\n",
       "      <td>8-Speed Automatic</td>\n",
       "      <td>Series II</td>\n",
       "      <td>SUV</td>\n",
       "      <td>4</td>\n",
       "      <td>White</td>\n",
       "      <td>Global Black</td>\n",
       "      <td>Four-wheel Drive</td>\n",
       "    </tr>\n",
       "    <tr>\n",
       "      <th>1</th>\n",
       "      <td>Jeep</td>\n",
       "      <td>Grand Cherokee</td>\n",
       "      <td>2024</td>\n",
       "      <td>50170.0</td>\n",
       "      <td>OHV</td>\n",
       "      <td>6</td>\n",
       "      <td>Gasoline</td>\n",
       "      <td>1</td>\n",
       "      <td>8-Speed Automatic</td>\n",
       "      <td>Laredo</td>\n",
       "      <td>SUV</td>\n",
       "      <td>4</td>\n",
       "      <td>Metallic</td>\n",
       "      <td>Global Black</td>\n",
       "      <td>Four-wheel Drive</td>\n",
       "    </tr>\n",
       "    <tr>\n",
       "      <th>2</th>\n",
       "      <td>GMC</td>\n",
       "      <td>Yukon XL</td>\n",
       "      <td>2024</td>\n",
       "      <td>96410.0</td>\n",
       "      <td>6.2L V-8 gasoline direct injection, variable v...</td>\n",
       "      <td>8</td>\n",
       "      <td>Gasoline</td>\n",
       "      <td>0</td>\n",
       "      <td>Automatic</td>\n",
       "      <td>Denali</td>\n",
       "      <td>SUV</td>\n",
       "      <td>4</td>\n",
       "      <td>Summit White</td>\n",
       "      <td>Teak/Light Shale</td>\n",
       "      <td>Four-wheel Drive</td>\n",
       "    </tr>\n",
       "    <tr>\n",
       "      <th>3</th>\n",
       "      <td>Dodge</td>\n",
       "      <td>Durango</td>\n",
       "      <td>2023</td>\n",
       "      <td>46835.0</td>\n",
       "      <td>16V MPFI OHV</td>\n",
       "      <td>8</td>\n",
       "      <td>Gasoline</td>\n",
       "      <td>32</td>\n",
       "      <td>8-Speed Automatic</td>\n",
       "      <td>Pursuit</td>\n",
       "      <td>SUV</td>\n",
       "      <td>4</td>\n",
       "      <td>White Knuckle Clearcoat</td>\n",
       "      <td>Black</td>\n",
       "      <td>All-wheel Drive</td>\n",
       "    </tr>\n",
       "    <tr>\n",
       "      <th>4</th>\n",
       "      <td>RAM</td>\n",
       "      <td>3500</td>\n",
       "      <td>2024</td>\n",
       "      <td>81663.0</td>\n",
       "      <td>24V DDI OHV Turbo Diesel</td>\n",
       "      <td>6</td>\n",
       "      <td>Diesel</td>\n",
       "      <td>10</td>\n",
       "      <td>6-Speed Automatic</td>\n",
       "      <td>Laramie</td>\n",
       "      <td>Pickup Truck</td>\n",
       "      <td>4</td>\n",
       "      <td>Silver</td>\n",
       "      <td>Black</td>\n",
       "      <td>Four-wheel Drive</td>\n",
       "    </tr>\n",
       "  </tbody>\n",
       "</table>\n",
       "</div>"
      ],
      "text/plain": [
       "    make           model  year    price  \\\n",
       "0   Jeep        Wagoneer  2024  74600.0   \n",
       "1   Jeep  Grand Cherokee  2024  50170.0   \n",
       "2    GMC        Yukon XL  2024  96410.0   \n",
       "3  Dodge         Durango  2023  46835.0   \n",
       "4    RAM            3500  2024  81663.0   \n",
       "\n",
       "                                              engine  cylinders      fuel  \\\n",
       "0                            24V GDI DOHC Twin Turbo          6  Gasoline   \n",
       "1                                                OHV          6  Gasoline   \n",
       "2  6.2L V-8 gasoline direct injection, variable v...          8  Gasoline   \n",
       "3                                       16V MPFI OHV          8  Gasoline   \n",
       "4                           24V DDI OHV Turbo Diesel          6    Diesel   \n",
       "\n",
       "   mileage       transmission       trim          body  doors  \\\n",
       "0       10  8-Speed Automatic  Series II           SUV      4   \n",
       "1        1  8-Speed Automatic     Laredo           SUV      4   \n",
       "2        0          Automatic     Denali           SUV      4   \n",
       "3       32  8-Speed Automatic    Pursuit           SUV      4   \n",
       "4       10  6-Speed Automatic    Laramie  Pickup Truck      4   \n",
       "\n",
       "            exterior_color    interior_color        drivetrain  \n",
       "0                    White      Global Black  Four-wheel Drive  \n",
       "1                 Metallic      Global Black  Four-wheel Drive  \n",
       "2             Summit White  Teak/Light Shale  Four-wheel Drive  \n",
       "3  White Knuckle Clearcoat             Black   All-wheel Drive  \n",
       "4                   Silver             Black  Four-wheel Drive  "
      ]
     },
     "execution_count": 92,
     "metadata": {},
     "output_type": "execute_result"
    }
   ],
   "source": [
    "df.head()"
   ]
  },
  {
   "cell_type": "markdown",
   "id": "2742b701",
   "metadata": {},
   "source": [
    "Starting by showing distributions of some columns."
   ]
  },
  {
   "cell_type": "code",
   "execution_count": 93,
   "id": "f49e0a89",
   "metadata": {},
   "outputs": [
    {
     "data": {
      "image/png": "[encoded data removed]",
      "text/plain": [
       "<Figure size 2000x600 with 1 Axes>"
      ]
     },
     "metadata": {},
     "output_type": "display_data"
    }
   ],
   "source": [
    "# Distributions of vehicle makes.\n",
    "plt.figure(figsize=(20,6))\n",
    "sns.histplot(df['make'], kde=True)\n",
    "plt.title('Distribution of Vehicle Makes') \n",
    "plt.xlabel('Make')\n",
    "plt.ylabel('Frequency')\n",
    "plt.tight_layout()\n",
    "plt.show()\n"
   ]
  },
  {
   "cell_type": "code",
   "execution_count": 94,
   "id": "822c1955",
   "metadata": {},
   "outputs": [
    {
     "data": {
      "image/png": "[encoded data removed]",
      "text/plain": [
       "<Figure size 1000x600 with 1 Axes>"
      ]
     },
     "metadata": {},
     "output_type": "display_data"
    }
   ],
   "source": [
    "# Every year distribution.\n",
    "plt.figure(figsize=(10,6))\n",
    "sns.histplot(df['year'], kde=False)\n",
    "plt.title('Distribution of Vehicle Years')\n",
    "plt.xlabel('Year')\n",
    "plt.ylabel('Amount of Vehicles')\n",
    "plt.tight_layout()\n",
    "plt.show()"
   ]
  },
  {
   "cell_type": "code",
   "execution_count": 95,
   "id": "ad2e915c",
   "metadata": {},
   "outputs": [
    {
     "data": {
      "image/png": "[encoded data removed]",
      "text/plain": [
       "<Figure size 2000x600 with 1 Axes>"
      ]
     },
     "metadata": {},
     "output_type": "display_data"
    }
   ],
   "source": [
    "# Exterior colors distribution.\n",
    "plt.figure(figsize=(20,6))\n",
    "sns.histplot(df['exterior_color'], kde=False)\n",
    "plt.title('Distribution of Exterior Colors')\n",
    "plt.xlabel('Exterior Color')\n",
    "plt.ylabel('Frequency')\n",
    "plt.tight_layout()\n",
    "plt.show()"
   ]
  },
  {
   "cell_type": "markdown",
   "id": "b50a1821",
   "metadata": {},
   "source": [
    "Some interesting data. Doing correlations now."
   ]
  },
  {
   "cell_type": "code",
   "execution_count": 96,
   "id": "d074ae12",
   "metadata": {},
   "outputs": [
    {
     "data": {
      "image/png": "[encoded data removed]",
      "text/plain": [
       "<Figure size 1200x800 with 2 Axes>"
      ]
     },
     "metadata": {},
     "output_type": "display_data"
    }
   ],
   "source": [
    "num_cols = df.select_dtypes(include=['int64', 'float64']).columns.tolist()\n",
    "# Correlation matrix.\n",
    "correlation_matrix = df[num_cols].corr()\n",
    "plt.figure(figsize=(12, 8))\n",
    "sns.heatmap(correlation_matrix, annot=True, fmt=\".2f\", cmap='coolwarm', square=True, cbar_kws={\"shrink\": .8})\n",
    "plt.title('Correlation Matrix')\n",
    "plt.tight_layout()\n",
    "plt.show()"
   ]
  },
  {
   "cell_type": "markdown",
   "id": "ff9586ae",
   "metadata": {},
   "source": [
    "Relation price/manufacturer"
   ]
  },
  {
   "cell_type": "code",
   "execution_count": 97,
   "id": "b160ff4d",
   "metadata": {},
   "outputs": [
    {
     "data": {
      "image/png": "[encoded data removed]",
      "text/plain": [
       "<Figure size 1000x600 with 1 Axes>"
      ]
     },
     "metadata": {},
     "output_type": "display_data"
    }
   ],
   "source": [
    "plt.figure(figsize=(10,6))\n",
    "sns.boxplot(x='make', y='price', data=df)\n",
    "plt.xticks(rotation=45)\n",
    "plt.title('Price Distribution by Make')\n",
    "plt.xlabel('Make')\n",
    "plt.ylabel('Price')\n",
    "plt.tight_layout()\n",
    "plt.show()"
   ]
  },
  {
   "cell_type": "markdown",
   "id": "42675edc",
   "metadata": {},
   "source": [
    "I can see some outliers, but mayority of vehicles makes are around the same price range (approximately)."
   ]
  },
  {
   "cell_type": "markdown",
   "id": "f78c6ee8",
   "metadata": {},
   "source": [
    "## Model training\n",
    "\n",
    "First, we have to codify the categorical columns. LightGBM is a decision tree based algorythm, so the categorical columns are managed by itself, and it's not necessary to codify with encoders. But i have to indicate which columns are categorical."
   ]
  },
  {
   "cell_type": "code",
   "execution_count": 98,
   "id": "806602a6",
   "metadata": {},
   "outputs": [
    {
     "data": {
      "text/html": [
       "<div>\n",
       "<style scoped>\n",
       "    .dataframe tbody tr th:only-of-type {\n",
       "        vertical-align: middle;\n",
       "    }\n",
       "\n",
       "    .dataframe tbody tr th {\n",
       "        vertical-align: top;\n",
       "    }\n",
       "\n",
       "    .dataframe thead th {\n",
       "        text-align: right;\n",
       "    }\n",
       "</style>\n",
       "<table border=\"1\" class=\"dataframe\">\n",
       "  <thead>\n",
       "    <tr style=\"text-align: right;\">\n",
       "      <th></th>\n",
       "      <th>make</th>\n",
       "      <th>model</th>\n",
       "      <th>year</th>\n",
       "      <th>price</th>\n",
       "      <th>engine</th>\n",
       "      <th>cylinders</th>\n",
       "      <th>fuel</th>\n",
       "      <th>mileage</th>\n",
       "      <th>transmission</th>\n",
       "      <th>trim</th>\n",
       "      <th>body</th>\n",
       "      <th>doors</th>\n",
       "      <th>exterior_color</th>\n",
       "      <th>interior_color</th>\n",
       "      <th>drivetrain</th>\n",
       "    </tr>\n",
       "  </thead>\n",
       "  <tbody>\n",
       "    <tr>\n",
       "      <th>0</th>\n",
       "      <td>Jeep</td>\n",
       "      <td>Wagoneer</td>\n",
       "      <td>2024</td>\n",
       "      <td>74600.0</td>\n",
       "      <td>24V GDI DOHC Twin Turbo</td>\n",
       "      <td>6</td>\n",
       "      <td>Gasoline</td>\n",
       "      <td>10</td>\n",
       "      <td>8-Speed Automatic</td>\n",
       "      <td>Series II</td>\n",
       "      <td>SUV</td>\n",
       "      <td>4</td>\n",
       "      <td>White</td>\n",
       "      <td>Global Black</td>\n",
       "      <td>Four-wheel Drive</td>\n",
       "    </tr>\n",
       "    <tr>\n",
       "      <th>1</th>\n",
       "      <td>Jeep</td>\n",
       "      <td>Grand Cherokee</td>\n",
       "      <td>2024</td>\n",
       "      <td>50170.0</td>\n",
       "      <td>OHV</td>\n",
       "      <td>6</td>\n",
       "      <td>Gasoline</td>\n",
       "      <td>1</td>\n",
       "      <td>8-Speed Automatic</td>\n",
       "      <td>Laredo</td>\n",
       "      <td>SUV</td>\n",
       "      <td>4</td>\n",
       "      <td>Metallic</td>\n",
       "      <td>Global Black</td>\n",
       "      <td>Four-wheel Drive</td>\n",
       "    </tr>\n",
       "    <tr>\n",
       "      <th>2</th>\n",
       "      <td>GMC</td>\n",
       "      <td>Yukon XL</td>\n",
       "      <td>2024</td>\n",
       "      <td>96410.0</td>\n",
       "      <td>6.2L V-8 gasoline direct injection, variable v...</td>\n",
       "      <td>8</td>\n",
       "      <td>Gasoline</td>\n",
       "      <td>0</td>\n",
       "      <td>Automatic</td>\n",
       "      <td>Denali</td>\n",
       "      <td>SUV</td>\n",
       "      <td>4</td>\n",
       "      <td>Summit White</td>\n",
       "      <td>Teak/Light Shale</td>\n",
       "      <td>Four-wheel Drive</td>\n",
       "    </tr>\n",
       "    <tr>\n",
       "      <th>3</th>\n",
       "      <td>Dodge</td>\n",
       "      <td>Durango</td>\n",
       "      <td>2023</td>\n",
       "      <td>46835.0</td>\n",
       "      <td>16V MPFI OHV</td>\n",
       "      <td>8</td>\n",
       "      <td>Gasoline</td>\n",
       "      <td>32</td>\n",
       "      <td>8-Speed Automatic</td>\n",
       "      <td>Pursuit</td>\n",
       "      <td>SUV</td>\n",
       "      <td>4</td>\n",
       "      <td>White Knuckle Clearcoat</td>\n",
       "      <td>Black</td>\n",
       "      <td>All-wheel Drive</td>\n",
       "    </tr>\n",
       "    <tr>\n",
       "      <th>4</th>\n",
       "      <td>RAM</td>\n",
       "      <td>3500</td>\n",
       "      <td>2024</td>\n",
       "      <td>81663.0</td>\n",
       "      <td>24V DDI OHV Turbo Diesel</td>\n",
       "      <td>6</td>\n",
       "      <td>Diesel</td>\n",
       "      <td>10</td>\n",
       "      <td>6-Speed Automatic</td>\n",
       "      <td>Laramie</td>\n",
       "      <td>Pickup Truck</td>\n",
       "      <td>4</td>\n",
       "      <td>Silver</td>\n",
       "      <td>Black</td>\n",
       "      <td>Four-wheel Drive</td>\n",
       "    </tr>\n",
       "  </tbody>\n",
       "</table>\n",
       "</div>"
      ],
      "text/plain": [
       "    make           model  year    price  \\\n",
       "0   Jeep        Wagoneer  2024  74600.0   \n",
       "1   Jeep  Grand Cherokee  2024  50170.0   \n",
       "2    GMC        Yukon XL  2024  96410.0   \n",
       "3  Dodge         Durango  2023  46835.0   \n",
       "4    RAM            3500  2024  81663.0   \n",
       "\n",
       "                                              engine  cylinders      fuel  \\\n",
       "0                            24V GDI DOHC Twin Turbo          6  Gasoline   \n",
       "1                                                OHV          6  Gasoline   \n",
       "2  6.2L V-8 gasoline direct injection, variable v...          8  Gasoline   \n",
       "3                                       16V MPFI OHV          8  Gasoline   \n",
       "4                           24V DDI OHV Turbo Diesel          6    Diesel   \n",
       "\n",
       "   mileage       transmission       trim          body  doors  \\\n",
       "0       10  8-Speed Automatic  Series II           SUV      4   \n",
       "1        1  8-Speed Automatic     Laredo           SUV      4   \n",
       "2        0          Automatic     Denali           SUV      4   \n",
       "3       32  8-Speed Automatic    Pursuit           SUV      4   \n",
       "4       10  6-Speed Automatic    Laramie  Pickup Truck      4   \n",
       "\n",
       "            exterior_color    interior_color        drivetrain  \n",
       "0                    White      Global Black  Four-wheel Drive  \n",
       "1                 Metallic      Global Black  Four-wheel Drive  \n",
       "2             Summit White  Teak/Light Shale  Four-wheel Drive  \n",
       "3  White Knuckle Clearcoat             Black   All-wheel Drive  \n",
       "4                   Silver             Black  Four-wheel Drive  "
      ]
     },
     "execution_count": 98,
     "metadata": {},
     "output_type": "execute_result"
    }
   ],
   "source": [
    "df.head()"
   ]
  },
  {
   "cell_type": "code",
   "execution_count": 99,
   "id": "cb884377",
   "metadata": {},
   "outputs": [
    {
     "name": "stdout",
     "output_type": "stream",
     "text": [
      "<class 'pandas.core.frame.DataFrame'>\n",
      "Index: 979 entries, 0 to 1001\n",
      "Data columns (total 15 columns):\n",
      " #   Column          Non-Null Count  Dtype  \n",
      "---  ------          --------------  -----  \n",
      " 0   make            979 non-null    object \n",
      " 1   model           979 non-null    object \n",
      " 2   year            979 non-null    int64  \n",
      " 3   price           979 non-null    float64\n",
      " 4   engine          979 non-null    object \n",
      " 5   cylinders       979 non-null    int64  \n",
      " 6   fuel            979 non-null    object \n",
      " 7   mileage         979 non-null    int64  \n",
      " 8   transmission    979 non-null    object \n",
      " 9   trim            979 non-null    object \n",
      " 10  body            979 non-null    object \n",
      " 11  doors           979 non-null    int64  \n",
      " 12  exterior_color  979 non-null    object \n",
      " 13  interior_color  979 non-null    object \n",
      " 14  drivetrain      979 non-null    object \n",
      "dtypes: float64(1), int64(4), object(10)\n",
      "memory usage: 154.7+ KB\n"
     ]
    }
   ],
   "source": [
    "df.info()"
   ]
  },
  {
   "cell_type": "markdown",
   "id": "fb1b4fb5",
   "metadata": {},
   "source": [
    "Selecting categorical columns."
   ]
  },
  {
   "cell_type": "code",
   "execution_count": 100,
   "id": "d663814b",
   "metadata": {},
   "outputs": [
    {
     "name": "stdout",
     "output_type": "stream",
     "text": [
      "Categorical columns: ['make', 'model', 'engine', 'fuel', 'transmission', 'trim', 'body', 'exterior_color', 'interior_color', 'drivetrain']\n",
      "Column make converted to categorical successfully!\n",
      "Column model converted to categorical successfully!\n",
      "Column engine converted to categorical successfully!\n",
      "Column fuel converted to categorical successfully!\n",
      "Column transmission converted to categorical successfully!\n",
      "Column trim converted to categorical successfully!\n",
      "Column body converted to categorical successfully!\n",
      "Column exterior_color converted to categorical successfully!\n",
      "Column interior_color converted to categorical successfully!\n",
      "Column drivetrain converted to categorical successfully!\n"
     ]
    }
   ],
   "source": [
    "# Selecting categorical columns.\n",
    "categorical_cols = df.select_dtypes(include=['object']).columns.tolist()\n",
    "print(f'Categorical columns: {categorical_cols}')\n",
    "# Turning into categorical columns from pandas.\n",
    "for col in categorical_cols:\n",
    "    df[col] = df[col].astype('category')\n",
    "    print(f'Column {col} converted to categorical successfully!')"
   ]
  },
  {
   "cell_type": "code",
   "execution_count": 101,
   "id": "603e9acf",
   "metadata": {},
   "outputs": [
    {
     "name": "stdout",
     "output_type": "stream",
     "text": [
      "<class 'pandas.core.frame.DataFrame'>\n",
      "Index: 979 entries, 0 to 1001\n",
      "Data columns (total 15 columns):\n",
      " #   Column          Non-Null Count  Dtype   \n",
      "---  ------          --------------  -----   \n",
      " 0   make            979 non-null    category\n",
      " 1   model           979 non-null    category\n",
      " 2   year            979 non-null    int64   \n",
      " 3   price           979 non-null    float64 \n",
      " 4   engine          979 non-null    category\n",
      " 5   cylinders       979 non-null    int64   \n",
      " 6   fuel            979 non-null    category\n",
      " 7   mileage         979 non-null    int64   \n",
      " 8   transmission    979 non-null    category\n",
      " 9   trim            979 non-null    category\n",
      " 10  body            979 non-null    category\n",
      " 11  doors           979 non-null    int64   \n",
      " 12  exterior_color  979 non-null    category\n",
      " 13  interior_color  979 non-null    category\n",
      " 14  drivetrain      979 non-null    category\n",
      "dtypes: category(10), float64(1), int64(4)\n",
      "memory usage: 122.7 KB\n"
     ]
    }
   ],
   "source": [
    "df.info()"
   ]
  },
  {
   "cell_type": "markdown",
   "id": "5a06d1ba",
   "metadata": {},
   "source": [
    "Now, i will set up the model."
   ]
  },
  {
   "cell_type": "code",
   "execution_count": 102,
   "id": "5d864a3b",
   "metadata": {},
   "outputs": [],
   "source": [
    "import lightgbm as lgb       \n",
    "from sklearn.model_selection import train_test_split\n",
    "\n",
    "# Spliting the data into X & y.\n",
    "X = df.drop(columns=['price'])\n",
    "y = df['price']\n",
    "\n",
    "# Splitting the data into training and testing sets.\n",
    "X_train, X_test, y_train, y_test = train_test_split(X,y,test_size=0.2, random_state=42)"
   ]
  },
  {
   "cell_type": "code",
   "execution_count": 103,
   "id": "a66d007c",
   "metadata": {},
   "outputs": [
    {
     "name": "stdout",
     "output_type": "stream",
     "text": [
      "Categorical features for LightGBM: ['make', 'model', 'engine', 'fuel', 'transmission', 'trim', 'body', 'exterior_color', 'interior_color', 'drivetrain']\n"
     ]
    }
   ],
   "source": [
    "# Setting up the categorical features.\n",
    "lgbm_categorical_features = X.select_dtypes(include=['category']).columns.tolist()\n",
    "print(f'Categorical features for LightGBM: {lgbm_categorical_features}')"
   ]
  },
  {
   "cell_type": "code",
   "execution_count": 104,
   "id": "9cf30002",
   "metadata": {},
   "outputs": [],
   "source": [
    "# Creating the LightGBM dataset.\n",
    "train_data = lgb.Dataset(X_train, label=y_train, categorical_feature=lgbm_categorical_features)\n",
    "test_data = lgb.Dataset(X_test, y_test, categorical_feature=lgbm_categorical_features, reference=train_data)"
   ]
  },
  {
   "cell_type": "code",
   "execution_count": 105,
   "id": "c9f683d0",
   "metadata": {},
   "outputs": [],
   "source": [
    "# Defining model parameters.\n",
    "params = {\n",
    "    'objective' : 'regression_l1', # Regression with L1 loss (MAE)\n",
    "    'metric': 'mae', # Mean Absolute Error as evaluation metric\n",
    "    'n_estimators': 1000, # Number of boosting iterations\n",
    "    'learning_rate': 0.05, # Learning rate for boosting\n",
    "    'feature_fraction' : 0.8, # Fraction of features to consider at each iteration\n",
    "    'bagging_fraction': 0.8, # Fraction of data to use for each iteration\n",
    "    'bagging_freq': 1, # Frequency of bagging\n",
    "    'verbose': -1, # Suppress verbose output\n",
    "    'n_jobs': -1, # Use all available CPU cores\n",
    "    'seed' : 42, # Random seed for reproducibility\n",
    "    'boosting_type': 'gbdt' # Gradient Boosting Decision Tree\n",
    "}"
   ]
  },
  {
   "cell_type": "code",
   "execution_count": 106,
   "id": "0b6c54be",
   "metadata": {},
   "outputs": [],
   "source": [
    "# Training the model. I will set early stopping to avoid overfitting.\n",
    "model = lgb.train(params, train_data, valid_sets=[test_data], callbacks=[lgb.early_stopping(100, verbose=False)]) "
   ]
  },
  {
   "cell_type": "code",
   "execution_count": 107,
   "id": "28d392fb",
   "metadata": {},
   "outputs": [
    {
     "data": {
      "text/plain": [
       "array([34734.47508241, 49587.65275732, 63702.82352717, 38243.94306077,\n",
       "       29019.73834118, 62628.90443566, 43478.49086904, 52345.27182008,\n",
       "       55102.20940651, 44906.05693044])"
      ]
     },
     "execution_count": 107,
     "metadata": {},
     "output_type": "execute_result"
    }
   ],
   "source": [
    "# Making predictions on the test set.-\n",
    "predictions = model.predict(X_test)\n",
    "predictions[:10]  # Displaying the first 10 predictions"
   ]
  },
  {
   "cell_type": "markdown",
   "id": "85cd4461",
   "metadata": {},
   "source": [
    "## Model evaluation\n",
    "\n",
    "Predicting prices is a regression problem, therefore the most common metrics are MAE (Mean Absolute Error), MSE (Mean Squared Error) & R2 (R-squared)."
   ]
  },
  {
   "cell_type": "code",
   "execution_count": 108,
   "id": "727c6edd",
   "metadata": {},
   "outputs": [
    {
     "name": "stdout",
     "output_type": "stream",
     "text": [
      "Evaluation metrics of the LightGBM model:\n",
      "Mean Absolute Error (MAE): 5583.82\n",
      "Mean Squared Error (MSE): 69793085.91\n",
      "Root Mean Squared Error (RMSE): 8354.23\n",
      "R-squared (R2): 0.7715\n"
     ]
    }
   ],
   "source": [
    "from sklearn.metrics import mean_absolute_error, mean_squared_error, r2_score\n",
    "\n",
    "# Calculating evaluation metrics.\n",
    "mae = mean_absolute_error(y_test, predictions)\n",
    "mse = mean_squared_error(y_test, predictions)\n",
    "rmse = np.sqrt(mse)  # Root Mean Squared Error\n",
    "r2 = r2_score(y_test, predictions)\n",
    "\n",
    "# Displaying evaluation metrics.\n",
    "print(f'Evaluation metrics of the LightGBM model:')\n",
    "print(f'Mean Absolute Error (MAE): {mae:.2f}')\n",
    "print(f'Mean Squared Error (MSE): {mse:.2f}')\n",
    "print(f'Root Mean Squared Error (RMSE): {rmse:.2f}')\n",
    "print(f'R-squared (R2): {r2:.4f}')"
   ]
  },
  {
   "cell_type": "markdown",
   "id": "8209c6ac",
   "metadata": {},
   "source": [
    "Displaying the evaluation on a chart. Predicted values vs Real values."
   ]
  },
  {
   "cell_type": "code",
   "execution_count": 109,
   "id": "4b2e3ebf",
   "metadata": {},
   "outputs": [
    {
     "data": {
      "image/png": "[encoded data removed]",
      "text/plain": [
       "<Figure size 1000x600 with 1 Axes>"
      ]
     },
     "metadata": {},
     "output_type": "display_data"
    }
   ],
   "source": [
    "plt.figure(figsize=(10,6))\n",
    "sns.regplot(x=y_test, y=predictions, scatter_kws={'alpha':0.3}, line_kws={'color':'red'})\n",
    "plt.xlabel('Real Prices')\n",
    "plt.ylabel('Predicted Prices')\n",
    "plt.title('Predicted vs Real Prices')\n",
    "plt.tight_layout()\n",
    "plt.show()"
   ]
  },
  {
   "cell_type": "code",
   "execution_count": 110,
   "id": "3924e927",
   "metadata": {},
   "outputs": [
    {
     "data": {
      "image/png": "[encoded data removed]",
      "text/plain": [
       "<Figure size 1000x600 with 1 Axes>"
      ]
     },
     "metadata": {},
     "output_type": "display_data"
    }
   ],
   "source": [
    "# Error histogram.\n",
    "errors = y_test - predictions\n",
    "plt.figure(figsize=(10,6))\n",
    "sns.histplot(errors, kde=True)\n",
    "plt.title('Error Distribution')\n",
    "plt.xlabel('Error (Real - Predicted)')\n",
    "plt.ylabel('Frequency')\n",
    "plt.tight_layout()\n",
    "plt.show()"
   ]
  },
  {
   "cell_type": "markdown",
   "id": "115a096b",
   "metadata": {},
   "source": [
    "As we can see, most of the predictions are right, due to the most repeated value is 0, and next are the values around him. \n",
    "\n",
    "MAE is around 5500€. Thats the mean error. Considering that these cars were made on the years 2023-2025 and knowing that the prices are very high, it's a good evaluation.\n",
    "\n",
    "RMSE is little more than MAE, which is good too. \n",
    "\n",
    "R2 is near 0.8, which indicates that the model explains a great part of the price variability."
   ]
  },
  {
   "cell_type": "markdown",
   "id": "78e9fc67",
   "metadata": {},
   "source": [
    "## Inference Function"
   ]
  },
  {
   "cell_type": "code",
   "execution_count": 111,
   "id": "bc136920",
   "metadata": {},
   "outputs": [],
   "source": [
    "def predict_car_price(car_data:dict):\n",
    "    \"Predicts the price of a car based on its features.\"\n",
    "    \"The data must be checked before using this function by the backend of the web app.\"\n",
    "    \"\"\"Args: \n",
    "        car_data (dict): Dictionary with car features. It must contain all the features used to train the model.\n",
    "    Returns:\n",
    "        float: Predicted price of the car.\n",
    "    \"\"\"\n",
    "    # Step 1: Creating a DataFrame from the input dictionary.\n",
    "    input_df = pd.DataFrame([car_data])\n",
    "    # Checking that columns are in the same order as the training data.\n",
    "    try:\n",
    "        input_df = input_df[X_train.columns]\n",
    "    except KeyError as e:\n",
    "        raise KeyError(f\"Missing column in input data: {e}\")\n",
    "    \n",
    "    # Step 2: Replicate the minimum preprocessing steps.\n",
    "    if 'cylinders' in input_df.columns:\n",
    "        input_df['cylinders'] = input_df['cylinders'].replace(0.0, np.nan)\n",
    "        input_df['cylinders'] = input_df['cylinders'].fillna(input_df['cylinders'].mode()[0])\n",
    "        input_df['cylinders'] = input_df['cylinders'].astype(int)\n",
    "    \n",
    "    # Step 3: Convert categorical columns to 'category' type.\n",
    "    for col in input_df.select_dtypes(include=['object']).columns:\n",
    "        input_df[col] = input_df[col].astype('category')\n",
    "    \n",
    "    # Step 4: Predicting the price using the trained model.\n",
    "    predicted_price = model.predict(input_df)\n",
    "    \n",
    "    return float(predicted_price[0])  # Return the first (and only) prediction as a float"
   ]
  },
  {
   "cell_type": "markdown",
   "id": "0366ac2a",
   "metadata": {},
   "source": [
    "Exporting the model."
   ]
  },
  {
   "cell_type": "code",
   "execution_count": 112,
   "id": "ce66d067",
   "metadata": {},
   "outputs": [
    {
     "name": "stdout",
     "output_type": "stream",
     "text": [
      "Model exported successfully to ../model/lgbm_model.pkl\n"
     ]
    }
   ],
   "source": [
    "import pickle \n",
    "# Exporting the model.\n",
    "with open('../model/lgbm_model.pkl', 'wb') as f:\n",
    "    pickle.dump(model, f)\n",
    "    print(f'Model exported successfully to ../model/lgbm_model.pkl')"
   ]
  },
  {
   "cell_type": "markdown",
   "id": "55db6931",
   "metadata": {},
   "source": [
    "Exporting preprocessing data"
   ]
  },
  {
   "cell_type": "code",
   "execution_count": 113,
   "id": "691ba481",
   "metadata": {},
   "outputs": [
    {
     "name": "stdout",
     "output_type": "stream",
     "text": [
      "Preprocessor data exported successfully to ../model/preprocessor_data.pkl\n"
     ]
    },
    {
     "name": "stderr",
     "output_type": "stream",
     "text": [
      "F:\\Temp\\ipykernel_20296\\2119493216.py:9: DeprecationWarning: is_categorical_dtype is deprecated and will be removed in a future version. Use isinstance(dtype, pd.CategoricalDtype) instead\n",
      "  if col in X_train.columns and pd.api.types.is_categorical_dtype(X_train[col]):\n"
     ]
    }
   ],
   "source": [
    "# Saving the preprocessor data.\n",
    "preprocessor_data ={\n",
    "    'expected_columns': X_train.columns.tolist(),\n",
    "    'mode_cylinders' : df['cylinders'].mode()[0],\n",
    "    'categorical_features_info' : {},\n",
    "    'lgbm_categorical_features': lgbm_categorical_features,\n",
    "}\n",
    "for col in lgbm_categorical_features:\n",
    "    if col in X_train.columns and pd.api.types.is_categorical_dtype(X_train[col]):\n",
    "        preprocessor_data['categorical_features_info'][col] = list(X_train[col].cat.categories)\n",
    "\n",
    "# Exporting the preprocessor data.\n",
    "with open('../model/preprocessor_data.pkl', 'wb') as f:\n",
    "    pickle.dump(preprocessor_data, f)\n",
    "    print(f'Preprocessor data exported successfully to ../model/preprocessor_data.pkl')"
   ]
  },
  {
   "cell_type": "code",
   "execution_count": 114,
   "id": "e85bc31e",
   "metadata": {},
   "outputs": [
    {
     "name": "stdout",
     "output_type": "stream",
     "text": [
      "Preprocessor data exported successfully to ../model/preprocessor_data.pkl\n"
     ]
    },
    {
     "name": "stderr",
     "output_type": "stream",
     "text": [
      "F:\\Temp\\ipykernel_20296\\2119493216.py:9: DeprecationWarning: is_categorical_dtype is deprecated and will be removed in a future version. Use isinstance(dtype, pd.CategoricalDtype) instead\n",
      "  if col in X_train.columns and pd.api.types.is_categorical_dtype(X_train[col]):\n"
     ]
    }
   ],
   "source": [
    "# Saving the preprocessor data.\n",
    "preprocessor_data ={\n",
    "    'expected_columns': X_train.columns.tolist(),\n",
    "    'mode_cylinders' : df['cylinders'].mode()[0],\n",
    "    'categorical_features_info' : {},\n",
    "    'lgbm_categorical_features': lgbm_categorical_features,\n",
    "}\n",
    "for col in lgbm_categorical_features:\n",
    "    if col in X_train.columns and pd.api.types.is_categorical_dtype(X_train[col]):\n",
    "        preprocessor_data['categorical_features_info'][col] = list(X_train[col].cat.categories)\n",
    "\n",
    "# Exporting the preprocessor data.\n",
    "with open('../model/preprocessor_data.pkl', 'wb') as f:\n",
    "    pickle.dump(preprocessor_data, f)\n",
    "    print(f'Preprocessor data exported successfully to ../model/preprocessor_data.pkl')"
   ]
  }
 ],
 "metadata": {
  "kernelspec": {
   "display_name": "ML",
   "language": "python",
   "name": "python3"
  },
  "language_info": {
   "codemirror_mode": {
    "name": "ipython",
    "version": 3
   },
   "file_extension": ".py",
   "mimetype": "text/x-python",
   "name": "python",
   "nbconvert_exporter": "python",
   "pygments_lexer": "ipython3",
   "version": "3.12.9"
  }
 },
 "nbformat": 4,
 "nbformat_minor": 5
}
