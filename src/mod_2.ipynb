{
 "cells": [
  {
   "cell_type": "markdown",
   "id": "ae963c15",
   "metadata": {},
   "source": [
    "I obtained a 2nd dataset which looks better than the first one. I will develop a second model and compare it to the first one to choose the better model."
   ]
  },
  {
   "cell_type": "markdown",
   "id": "1f0d195e",
   "metadata": {},
   "source": [
    "### Loading primary libraries"
   ]
  },
  {
   "cell_type": "code",
   "execution_count": 1,
   "id": "db45e62f",
   "metadata": {},
   "outputs": [],
   "source": [
    "import pandas as pd\n",
    "import numpy as np \n",
    "import matplotlib.pyplot as plt              \n",
    "import seaborn as sns   "
   ]
  },
  {
   "cell_type": "markdown",
   "id": "cb65f09d",
   "metadata": {},
   "source": [
    "## Loading the new dataset"
   ]
  },
  {
   "cell_type": "code",
   "execution_count": 21,
   "id": "fbb0696b",
   "metadata": {},
   "outputs": [
    {
     "name": "stdout",
     "output_type": "stream",
     "text": [
      "CSV file loaded succesfully!\n"
     ]
    },
    {
     "data": {
      "text/html": [
       "<div>\n",
       "<style scoped>\n",
       "    .dataframe tbody tr th:only-of-type {\n",
       "        vertical-align: middle;\n",
       "    }\n",
       "\n",
       "    .dataframe tbody tr th {\n",
       "        vertical-align: top;\n",
       "    }\n",
       "\n",
       "    .dataframe thead th {\n",
       "        text-align: right;\n",
       "    }\n",
       "</style>\n",
       "<table border=\"1\" class=\"dataframe\">\n",
       "  <thead>\n",
       "    <tr style=\"text-align: right;\">\n",
       "      <th></th>\n",
       "      <th>name</th>\n",
       "      <th>description</th>\n",
       "      <th>make</th>\n",
       "      <th>model</th>\n",
       "      <th>year</th>\n",
       "      <th>price</th>\n",
       "      <th>engine</th>\n",
       "      <th>cylinders</th>\n",
       "      <th>fuel</th>\n",
       "      <th>mileage</th>\n",
       "      <th>transmission</th>\n",
       "      <th>trim</th>\n",
       "      <th>body</th>\n",
       "      <th>doors</th>\n",
       "      <th>exterior_color</th>\n",
       "      <th>interior_color</th>\n",
       "      <th>drivetrain</th>\n",
       "    </tr>\n",
       "  </thead>\n",
       "  <tbody>\n",
       "    <tr>\n",
       "      <th>0</th>\n",
       "      <td>2024 Jeep Wagoneer Series II</td>\n",
       "      <td>\\n      \\n        Heated Leather Seats, Nav Sy...</td>\n",
       "      <td>Jeep</td>\n",
       "      <td>Wagoneer</td>\n",
       "      <td>2024</td>\n",
       "      <td>74600.0</td>\n",
       "      <td>24V GDI DOHC Twin Turbo</td>\n",
       "      <td>6.0</td>\n",
       "      <td>Gasoline</td>\n",
       "      <td>10.0</td>\n",
       "      <td>8-Speed Automatic</td>\n",
       "      <td>Series II</td>\n",
       "      <td>SUV</td>\n",
       "      <td>4.0</td>\n",
       "      <td>White</td>\n",
       "      <td>Global Black</td>\n",
       "      <td>Four-wheel Drive</td>\n",
       "    </tr>\n",
       "    <tr>\n",
       "      <th>1</th>\n",
       "      <td>2024 Jeep Grand Cherokee Laredo</td>\n",
       "      <td>Al West is committed to offering every custome...</td>\n",
       "      <td>Jeep</td>\n",
       "      <td>Grand Cherokee</td>\n",
       "      <td>2024</td>\n",
       "      <td>50170.0</td>\n",
       "      <td>OHV</td>\n",
       "      <td>6.0</td>\n",
       "      <td>Gasoline</td>\n",
       "      <td>1.0</td>\n",
       "      <td>8-Speed Automatic</td>\n",
       "      <td>Laredo</td>\n",
       "      <td>SUV</td>\n",
       "      <td>4.0</td>\n",
       "      <td>Metallic</td>\n",
       "      <td>Global Black</td>\n",
       "      <td>Four-wheel Drive</td>\n",
       "    </tr>\n",
       "    <tr>\n",
       "      <th>2</th>\n",
       "      <td>2024 GMC Yukon XL Denali</td>\n",
       "      <td>NaN</td>\n",
       "      <td>GMC</td>\n",
       "      <td>Yukon XL</td>\n",
       "      <td>2024</td>\n",
       "      <td>96410.0</td>\n",
       "      <td>6.2L V-8 gasoline direct injection, variable v...</td>\n",
       "      <td>8.0</td>\n",
       "      <td>Gasoline</td>\n",
       "      <td>0.0</td>\n",
       "      <td>Automatic</td>\n",
       "      <td>Denali</td>\n",
       "      <td>SUV</td>\n",
       "      <td>4.0</td>\n",
       "      <td>Summit White</td>\n",
       "      <td>Teak/Light Shale</td>\n",
       "      <td>Four-wheel Drive</td>\n",
       "    </tr>\n",
       "    <tr>\n",
       "      <th>3</th>\n",
       "      <td>2023 Dodge Durango Pursuit</td>\n",
       "      <td>White Knuckle Clearcoat 2023 Dodge Durango Pur...</td>\n",
       "      <td>Dodge</td>\n",
       "      <td>Durango</td>\n",
       "      <td>2023</td>\n",
       "      <td>46835.0</td>\n",
       "      <td>16V MPFI OHV</td>\n",
       "      <td>8.0</td>\n",
       "      <td>Gasoline</td>\n",
       "      <td>32.0</td>\n",
       "      <td>8-Speed Automatic</td>\n",
       "      <td>Pursuit</td>\n",
       "      <td>SUV</td>\n",
       "      <td>4.0</td>\n",
       "      <td>White Knuckle Clearcoat</td>\n",
       "      <td>Black</td>\n",
       "      <td>All-wheel Drive</td>\n",
       "    </tr>\n",
       "    <tr>\n",
       "      <th>4</th>\n",
       "      <td>2024 RAM 3500 Laramie</td>\n",
       "      <td>\\n      \\n        2024 Ram 3500 Laramie Billet...</td>\n",
       "      <td>RAM</td>\n",
       "      <td>3500</td>\n",
       "      <td>2024</td>\n",
       "      <td>81663.0</td>\n",
       "      <td>24V DDI OHV Turbo Diesel</td>\n",
       "      <td>6.0</td>\n",
       "      <td>Diesel</td>\n",
       "      <td>10.0</td>\n",
       "      <td>6-Speed Automatic</td>\n",
       "      <td>Laramie</td>\n",
       "      <td>Pickup Truck</td>\n",
       "      <td>4.0</td>\n",
       "      <td>Silver</td>\n",
       "      <td>Black</td>\n",
       "      <td>Four-wheel Drive</td>\n",
       "    </tr>\n",
       "  </tbody>\n",
       "</table>\n",
       "</div>"
      ],
      "text/plain": [
       "                              name  \\\n",
       "0     2024 Jeep Wagoneer Series II   \n",
       "1  2024 Jeep Grand Cherokee Laredo   \n",
       "2         2024 GMC Yukon XL Denali   \n",
       "3       2023 Dodge Durango Pursuit   \n",
       "4            2024 RAM 3500 Laramie   \n",
       "\n",
       "                                         description   make           model  \\\n",
       "0  \\n      \\n        Heated Leather Seats, Nav Sy...   Jeep        Wagoneer   \n",
       "1  Al West is committed to offering every custome...   Jeep  Grand Cherokee   \n",
       "2                                                NaN    GMC        Yukon XL   \n",
       "3  White Knuckle Clearcoat 2023 Dodge Durango Pur...  Dodge         Durango   \n",
       "4  \\n      \\n        2024 Ram 3500 Laramie Billet...    RAM            3500   \n",
       "\n",
       "   year    price                                             engine  \\\n",
       "0  2024  74600.0                            24V GDI DOHC Twin Turbo   \n",
       "1  2024  50170.0                                                OHV   \n",
       "2  2024  96410.0  6.2L V-8 gasoline direct injection, variable v...   \n",
       "3  2023  46835.0                                       16V MPFI OHV   \n",
       "4  2024  81663.0                           24V DDI OHV Turbo Diesel   \n",
       "\n",
       "   cylinders      fuel  mileage       transmission       trim          body  \\\n",
       "0        6.0  Gasoline     10.0  8-Speed Automatic  Series II           SUV   \n",
       "1        6.0  Gasoline      1.0  8-Speed Automatic     Laredo           SUV   \n",
       "2        8.0  Gasoline      0.0          Automatic     Denali           SUV   \n",
       "3        8.0  Gasoline     32.0  8-Speed Automatic    Pursuit           SUV   \n",
       "4        6.0    Diesel     10.0  6-Speed Automatic    Laramie  Pickup Truck   \n",
       "\n",
       "   doors           exterior_color    interior_color        drivetrain  \n",
       "0    4.0                    White      Global Black  Four-wheel Drive  \n",
       "1    4.0                 Metallic      Global Black  Four-wheel Drive  \n",
       "2    4.0             Summit White  Teak/Light Shale  Four-wheel Drive  \n",
       "3    4.0  White Knuckle Clearcoat             Black   All-wheel Drive  \n",
       "4    4.0                   Silver             Black  Four-wheel Drive  "
      ]
     },
     "execution_count": 21,
     "metadata": {},
     "output_type": "execute_result"
    }
   ],
   "source": [
    "df = pd.read_csv('../data/Vehicle Price.csv')\n",
    "print(f'CSV file loaded succesfully!')\n",
    "df.head()"
   ]
  },
  {
   "cell_type": "markdown",
   "id": "cb08fc27",
   "metadata": {},
   "source": [
    "## EDA & Preprocess"
   ]
  },
  {
   "cell_type": "code",
   "execution_count": 22,
   "id": "979dd855",
   "metadata": {},
   "outputs": [
    {
     "name": "stdout",
     "output_type": "stream",
     "text": [
      "The dataframe is composed by 1002 observations & 17 columns.\n"
     ]
    }
   ],
   "source": [
    "print(f'The dataframe is composed by {df.shape[0]} observations & {df.shape[1]} columns.')"
   ]
  },
  {
   "cell_type": "code",
   "execution_count": 23,
   "id": "da526919",
   "metadata": {},
   "outputs": [
    {
     "name": "stdout",
     "output_type": "stream",
     "text": [
      "<class 'pandas.core.frame.DataFrame'>\n",
      "RangeIndex: 1002 entries, 0 to 1001\n",
      "Data columns (total 17 columns):\n",
      " #   Column          Non-Null Count  Dtype  \n",
      "---  ------          --------------  -----  \n",
      " 0   name            1002 non-null   object \n",
      " 1   description     946 non-null    object \n",
      " 2   make            1002 non-null   object \n",
      " 3   model           1002 non-null   object \n",
      " 4   year            1002 non-null   int64  \n",
      " 5   price           979 non-null    float64\n",
      " 6   engine          1000 non-null   object \n",
      " 7   cylinders       897 non-null    float64\n",
      " 8   fuel            995 non-null    object \n",
      " 9   mileage         968 non-null    float64\n",
      " 10  transmission    1000 non-null   object \n",
      " 11  trim            1001 non-null   object \n",
      " 12  body            999 non-null    object \n",
      " 13  doors           995 non-null    float64\n",
      " 14  exterior_color  997 non-null    object \n",
      " 15  interior_color  964 non-null    object \n",
      " 16  drivetrain      1002 non-null   object \n",
      "dtypes: float64(4), int64(1), object(12)\n",
      "memory usage: 133.2+ KB\n"
     ]
    }
   ],
   "source": [
    "df.info()"
   ]
  },
  {
   "cell_type": "code",
   "execution_count": 24,
   "id": "e93f9c6d",
   "metadata": {},
   "outputs": [
    {
     "name": "stdout",
     "output_type": "stream",
     "text": [
      "Number of null values: 283\n",
      "Every null value:\n",
      "name                0\n",
      "description        56\n",
      "make                0\n",
      "model               0\n",
      "year                0\n",
      "price              23\n",
      "engine              2\n",
      "cylinders         105\n",
      "fuel                7\n",
      "mileage            34\n",
      "transmission        2\n",
      "trim                1\n",
      "body                3\n",
      "doors               7\n",
      "exterior_color      5\n",
      "interior_color     38\n",
      "drivetrain          0\n",
      "dtype: int64\n"
     ]
    }
   ],
   "source": [
    "print(f'Number of null values: {df.isna().sum().sum()}')\n",
    "print(f'Every null value:\\n{df.isna().sum()}')"
   ]
  },
  {
   "cell_type": "markdown",
   "id": "6985bbe3",
   "metadata": {},
   "source": [
    "There are some null values & some columns which are in wrong types. Preprocess will begin with correcting null values.\n",
    "\n",
    "First, i noticed that there are some null values on the Price column. This is a essential column, so if there are no price, the observation should not exist. I will drop the observations whose price column is empty."
   ]
  },
  {
   "cell_type": "code",
   "execution_count": 26,
   "id": "9765e17d",
   "metadata": {},
   "outputs": [
    {
     "name": "stdout",
     "output_type": "stream",
     "text": [
      "Null values from the Price column dropped successfully!\n"
     ]
    }
   ],
   "source": [
    "# Droping null values from the Price column.\n",
    "df = df.dropna(subset=['price'])\n",
    "print(f'Null values from the Price column dropped successfully!')"
   ]
  },
  {
   "cell_type": "code",
   "execution_count": 27,
   "id": "f5b0e5f9",
   "metadata": {},
   "outputs": [
    {
     "name": "stdout",
     "output_type": "stream",
     "text": [
      "Number of null values: 256\n",
      "Every null value:\n",
      "name                0\n",
      "description        56\n",
      "make                0\n",
      "model               0\n",
      "year                0\n",
      "price               0\n",
      "engine              2\n",
      "cylinders         102\n",
      "fuel                7\n",
      "mileage            34\n",
      "transmission        2\n",
      "trim                1\n",
      "body                3\n",
      "doors               7\n",
      "exterior_color      5\n",
      "interior_color     37\n",
      "drivetrain          0\n",
      "dtype: int64\n"
     ]
    }
   ],
   "source": [
    "# Checking new number of null values.\n",
    "print(f'Number of null values: {df.isna().sum().sum()}')\n",
    "print(f'Every null value:\\n{df.isna().sum()}')"
   ]
  },
  {
   "cell_type": "markdown",
   "id": "79c7ac62",
   "metadata": {},
   "source": [
    "Cylinders is an important column and it has a great amount of null values. I will do some research of the column to take an action."
   ]
  },
  {
   "cell_type": "code",
   "execution_count": 28,
   "id": "89ff4ad7",
   "metadata": {},
   "outputs": [
    {
     "data": {
      "text/plain": [
       "array([ 6.,  8.,  4., nan,  3.,  0.])"
      ]
     },
     "execution_count": 28,
     "metadata": {},
     "output_type": "execute_result"
    }
   ],
   "source": [
    "df['cylinders'].unique()"
   ]
  },
  {
   "cell_type": "markdown",
   "id": "7edac2c2",
   "metadata": {},
   "source": [
    "As we know, it is impossible for a car to have 0 cylinders, so thats a null value too."
   ]
  },
  {
   "cell_type": "code",
   "execution_count": 31,
   "id": "11661ad7",
   "metadata": {},
   "outputs": [
    {
     "name": "stdout",
     "output_type": "stream",
     "text": [
      "Value Counts of the Cylinders column:\n",
      "cylinders\n",
      "4.0    489\n",
      "6.0    272\n",
      "8.0     87\n",
      "3.0     27\n",
      "0.0      2\n",
      "Name: count, dtype: int64\n"
     ]
    }
   ],
   "source": [
    "print('Value Counts of the Cylinders column:')\n",
    "print(df['cylinders'].value_counts())"
   ]
  },
  {
   "cell_type": "markdown",
   "id": "e87fc0ee",
   "metadata": {},
   "source": [
    "The mayority of cars have 4 cylinders, and other amount has 6. First, I will start by turning the 0 values into NaN."
   ]
  },
  {
   "cell_type": "code",
   "execution_count": 33,
   "id": "e4411807",
   "metadata": {},
   "outputs": [],
   "source": [
    "df['cylinders'] = df['cylinders'].replace(0.0, np.nan)"
   ]
  },
  {
   "cell_type": "markdown",
   "id": "066a5940",
   "metadata": {},
   "source": [
    "100 null values are too many null values too drop or impute in a single columns. For this reason, i will do a random ponderated impute."
   ]
  },
  {
   "cell_type": "code",
   "execution_count": 36,
   "id": "8cfa073a",
   "metadata": {},
   "outputs": [
    {
     "name": "stdout",
     "output_type": "stream",
     "text": [
      "Distribution of Cylinders (%):\n",
      "cylinders\n",
      "4.0    0.558857\n",
      "6.0    0.310857\n",
      "8.0    0.099429\n",
      "3.0    0.030857\n",
      "Name: proportion, dtype: float64\n"
     ]
    }
   ],
   "source": [
    "# Distribution in percentage of values.\n",
    "distribution_cyl = df['cylinders'].value_counts(normalize=True)\n",
    "print('Distribution of Cylinders (%):')\n",
    "print(distribution_cyl)"
   ]
  },
  {
   "cell_type": "code",
   "execution_count": 38,
   "id": "512b0ea8",
   "metadata": {},
   "outputs": [
    {
     "name": "stdout",
     "output_type": "stream",
     "text": [
      "Null values from the Cylinders column imputed successfully!\n"
     ]
    }
   ],
   "source": [
    "# Transforming the distribution to list.\n",
    "values = distribution_cyl.index.tolist()\n",
    "weights = distribution_cyl.values.tolist()\n",
    "\n",
    "# Obtaining indexs of NaN values.\n",
    "nan_index = df[df['cylinders'].isna()].index\n",
    "\n",
    "# Generating random values based on the distribution.\n",
    "random_values = np.random.choice(values, size=len(nan_index), p=weights)\n",
    "\n",
    "# Imputing the random values into the NaN indexs.\n",
    "df.loc[nan_index, 'cylinders'] = random_values\n",
    "print(f'Null values from the Cylinders column imputed successfully!')\n"
   ]
  },
  {
   "cell_type": "code",
   "execution_count": 39,
   "id": "97c69318",
   "metadata": {},
   "outputs": [
    {
     "name": "stdout",
     "output_type": "stream",
     "text": [
      "Value Counts of the Cylinders column:\n",
      "cylinders\n",
      "4.0    556\n",
      "6.0    300\n",
      "8.0     96\n",
      "3.0     27\n",
      "Name: count, dtype: int64\n"
     ]
    }
   ],
   "source": [
    "print('Value Counts of the Cylinders column:')\n",
    "print(df['cylinders'].value_counts())"
   ]
  },
  {
   "cell_type": "code",
   "execution_count": 40,
   "id": "49c364fa",
   "metadata": {},
   "outputs": [
    {
     "name": "stdout",
     "output_type": "stream",
     "text": [
      "Number of null values: 154\n",
      "Every null value:\n",
      "name               0\n",
      "description       56\n",
      "make               0\n",
      "model              0\n",
      "year               0\n",
      "price              0\n",
      "engine             2\n",
      "cylinders          0\n",
      "fuel               7\n",
      "mileage           34\n",
      "transmission       2\n",
      "trim               1\n",
      "body               3\n",
      "doors              7\n",
      "exterior_color     5\n",
      "interior_color    37\n",
      "drivetrain         0\n",
      "dtype: int64\n"
     ]
    }
   ],
   "source": [
    "# Checking new number of null values.\n",
    "print(f'Number of null values: {df.isna().sum().sum()}')\n",
    "print(f'Every null value:\\n{df.isna().sum()}')"
   ]
  },
  {
   "cell_type": "markdown",
   "id": "99846704",
   "metadata": {},
   "source": [
    "Next stop in handling null values is the description column. Description is a text free columns (object) that will not be easy for the ML library to use. It has some null values and the columns doesn't have much importance by itself. Therefore, the column will be dropped."
   ]
  },
  {
   "cell_type": "code",
   "execution_count": 41,
   "id": "6136ebec",
   "metadata": {},
   "outputs": [
    {
     "name": "stdout",
     "output_type": "stream",
     "text": [
      "Description column dropped successfully!\n"
     ]
    }
   ],
   "source": [
    "# Droping the description column.\n",
    "df = df.drop(columns=['description'])\n",
    "print(f'Description column dropped successfully!')"
   ]
  },
  {
   "cell_type": "code",
   "execution_count": 42,
   "id": "335d6eec",
   "metadata": {},
   "outputs": [
    {
     "name": "stdout",
     "output_type": "stream",
     "text": [
      "Number of null values: 98\n",
      "Every null value:\n",
      "name               0\n",
      "make               0\n",
      "model              0\n",
      "year               0\n",
      "price              0\n",
      "engine             2\n",
      "cylinders          0\n",
      "fuel               7\n",
      "mileage           34\n",
      "transmission       2\n",
      "trim               1\n",
      "body               3\n",
      "doors              7\n",
      "exterior_color     5\n",
      "interior_color    37\n",
      "drivetrain         0\n",
      "dtype: int64\n"
     ]
    }
   ],
   "source": [
    "# Checking new number of null values.\n",
    "print(f'Number of null values: {df.isna().sum().sum()}')\n",
    "print(f'Every null value:\\n{df.isna().sum()}')"
   ]
  },
  {
   "cell_type": "markdown",
   "id": "856e3539",
   "metadata": {},
   "source": [
    "Checking values distribution for the next columns with null values."
   ]
  },
  {
   "cell_type": "code",
   "execution_count": 46,
   "id": "a4a506f9",
   "metadata": {},
   "outputs": [
    {
     "name": "stdout",
     "output_type": "stream",
     "text": [
      "Fuel unique values: ['Gasoline' 'Diesel' 'Hybrid' 'Electric' 'E85 Flex Fuel'\n",
      " 'PHEV Hybrid Fuel' nan 'Diesel (B20 capable)']\n",
      "Fuel distribution:\n",
      "fuel\n",
      "Gasoline                647\n",
      "Hybrid                  135\n",
      "Electric                 96\n",
      "Diesel                   72\n",
      "PHEV Hybrid Fuel         16\n",
      "E85 Flex Fuel             5\n",
      "Diesel (B20 capable)      1\n",
      "Name: count, dtype: int64\n"
     ]
    }
   ],
   "source": [
    "print(f'Fuel unique values: {df['fuel'].unique()}')\n",
    "print(f'Fuel distribution:\\n{df['fuel'].value_counts()}')"
   ]
  },
  {
   "cell_type": "markdown",
   "id": "06296e8d",
   "metadata": {},
   "source": [
    "Fuel columns has only 7 null values that will be imputed by mode."
   ]
  },
  {
   "cell_type": "code",
   "execution_count": 47,
   "id": "653b81ef",
   "metadata": {},
   "outputs": [
    {
     "name": "stdout",
     "output_type": "stream",
     "text": [
      "Null values from the Fuel column imputed successfully!\n"
     ]
    }
   ],
   "source": [
    "# Imputing null values in the fuel column by mode.\n",
    "df['fuel'] = df['fuel'].fillna(df['fuel'].mode()[0])\n",
    "print(f'Null values from the Fuel column imputed successfully!')"
   ]
  },
  {
   "cell_type": "markdown",
   "id": "9d87bc69",
   "metadata": {},
   "source": [
    "Repeating process with engine column."
   ]
  },
  {
   "cell_type": "code",
   "execution_count": 52,
   "id": "30c9dd90",
   "metadata": {},
   "outputs": [
    {
     "name": "stdout",
     "output_type": "stream",
     "text": [
      "Number of unique values in the engine column: 100\n",
      "Engine unique values: engine\n",
      "16V GDI DOHC Turbo                                           120\n",
      "16V GDI DOHC Turbo Hybrid                                     92\n",
      "c                                                             92\n",
      "24V MPFI DOHC                                                 53\n",
      "16V MPFI OHV                                                  46\n",
      "                                                            ... \n",
      "16V MPFI DOHC Hybrid                                           1\n",
      "o                                                              1\n",
      "4L V-8 VVT variable valve control, regular unleaded, engi      1\n",
      "DOHC, D-CVVT variable valve control, regular unleaded, en      1\n",
      "8 gasoline direct injection, variable valve control, regu      1\n",
      "Name: count, Length: 100, dtype: int64\n"
     ]
    }
   ],
   "source": [
    "print(f'Number of unique values in the engine column: {df['engine'].nunique()}')\n",
    "# Showing the distribution of the engine column.\n",
    "print(f'Engine unique values: {df['engine'].value_counts()}')\n"
   ]
  },
  {
   "cell_type": "code",
   "execution_count": 53,
   "id": "e73b6924",
   "metadata": {},
   "outputs": [
    {
     "name": "stdout",
     "output_type": "stream",
     "text": [
      "Null values from the Engine column imputed successfully!\n"
     ]
    }
   ],
   "source": [
    "# Imputing null values in the fuel column by mode.\n",
    "df['engine'] = df['engine'].fillna(df['engine'].mode()[0])\n",
    "print(f'Null values from the Engine column imputed successfully!')"
   ]
  },
  {
   "cell_type": "code",
   "execution_count": 54,
   "id": "61d61073",
   "metadata": {},
   "outputs": [
    {
     "name": "stdout",
     "output_type": "stream",
     "text": [
      "Number of null values: 89\n",
      "Every null value:\n",
      "name               0\n",
      "make               0\n",
      "model              0\n",
      "year               0\n",
      "price              0\n",
      "engine             0\n",
      "cylinders          0\n",
      "fuel               0\n",
      "mileage           34\n",
      "transmission       2\n",
      "trim               1\n",
      "body               3\n",
      "doors              7\n",
      "exterior_color     5\n",
      "interior_color    37\n",
      "drivetrain         0\n",
      "dtype: int64\n"
     ]
    }
   ],
   "source": [
    "# Checking new number of null values.\n",
    "print(f'Number of null values: {df.isna().sum().sum()}')\n",
    "print(f'Every null value:\\n{df.isna().sum()}')"
   ]
  },
  {
   "cell_type": "markdown",
   "id": "6b03888f",
   "metadata": {},
   "source": [
    "Checking data from mileage column."
   ]
  },
  {
   "cell_type": "code",
   "execution_count": 56,
   "id": "d32852b8",
   "metadata": {},
   "outputs": [
    {
     "name": "stdout",
     "output_type": "stream",
     "text": [
      "Number of unique values in the mileage column: 91\n",
      "Mileage unique values: mileage\n",
      "5.0      113\n",
      "0.0      109\n",
      "10.0     103\n",
      "1.0       58\n",
      "6.0       50\n",
      "        ... \n",
      "241.0      1\n",
      "66.0       1\n",
      "41.0       1\n",
      "141.0      1\n",
      "296.0      1\n",
      "Name: count, Length: 91, dtype: int64\n"
     ]
    }
   ],
   "source": [
    "# Number of unique values.\n",
    "print(f'Number of unique values in the mileage column: {df['mileage'].nunique()}')\n",
    "# Distribution.\n",
    "print(f'Mileage unique values: {df['mileage'].value_counts()}')"
   ]
  },
  {
   "cell_type": "code",
   "execution_count": 57,
   "id": "b8376870",
   "metadata": {},
   "outputs": [
    {
     "name": "stdout",
     "output_type": "stream",
     "text": [
      "Null values in the Mileage column:\n",
      "                                           name        make  \\\n",
      "27             2024 Chrysler Pacifica Touring-L    Chrysler   \n",
      "47               2024 Subaru Outback Wilderness      Subaru   \n",
      "63           2024 Jeep Grand Cherokee L Limited        Jeep   \n",
      "73                      2024 Jeep Wagoneer Base        Jeep   \n",
      "84           2024 Jeep Grand Cherokee L Limited        Jeep   \n",
      "87                    2024 Buick Envista Avenir       Buick   \n",
      "93                          2024 Ford Ranger XL        Ford   \n",
      "177               2024 Lincoln Nautilus Reserve     Lincoln   \n",
      "217                2024 Jeep Wrangler 4xe Sport        Jeep   \n",
      "219                 2024 Honda Prologue TOURING       Honda   \n",
      "225                 2024 Volkswagen Taos 1.5T S  Volkswagen   \n",
      "234                     2024 Jeep Wagoneer Base        Jeep   \n",
      "261                2024 Jeep Wagoneer Series II        Jeep   \n",
      "262                 2023 Jeep Compass Trailhawk        Jeep   \n",
      "365                   2024 Jeep Compass Limited        Jeep   \n",
      "399                2024 Jeep Wagoneer Series II        Jeep   \n",
      "461                        2024 Dodge Hornet GT       Dodge   \n",
      "476              2024 Subaru Outback Wilderness      Subaru   \n",
      "489                 2024 Honda Prologue TOURING       Honda   \n",
      "490                 2024 Honda Prologue TOURING       Honda   \n",
      "503            2024 Chrysler Pacifica Touring-L    Chrysler   \n",
      "594                2024 Jeep Wrangler 4xe Sport        Jeep   \n",
      "596               2023 Jeep Wrangler 4xe Sahara        Jeep   \n",
      "607              2024 Jeep Wagoneer L Series II        Jeep   \n",
      "628                  2024 Dodge Hornet R/T Plus       Dodge   \n",
      "629                      2024 Toyota Corolla LE      Toyota   \n",
      "801                 2024 Subaru Outback Premium      Subaru   \n",
      "847       2024 Jeep Grand Cherokee 4xe Overland        Jeep   \n",
      "879          2024 Jeep Grand Cherokee L Limited        Jeep   \n",
      "885  2024 Hyundai Tucson Hybrid SEL Convenience     Hyundai   \n",
      "906                   2024 Buick Envista Avenir       Buick   \n",
      "916            2024 Jeep Grand Cherokee Limited        Jeep   \n",
      "922                 2024 Subaru Outback Limited      Subaru   \n",
      "980                          2024 Kia Forte LXS         Kia   \n",
      "\n",
      "                  model  year    price                     engine  cylinders  \\\n",
      "27             Pacifica  2024  48705.0              24V MPFI DOHC        6.0   \n",
      "47              Outback  2024  44354.0         16V GDI DOHC Turbo        4.0   \n",
      "63     Grand Cherokee L  2024  51360.0              24V MPFI DOHC        6.0   \n",
      "73             Wagoneer  2024  63057.0    24V GDI DOHC Twin Turbo        6.0   \n",
      "84     Grand Cherokee L  2024  49390.0                        OHV        6.0   \n",
      "87              Envista  2024  31805.0         12V GDI DOHC Turbo        3.0   \n",
      "93               Ranger  2024  38740.0         16V GDI DOHC Turbo        4.0   \n",
      "177            Nautilus  2024  64370.0         16V GDI DOHC Turbo        4.0   \n",
      "217        Wrangler 4xe  2024  50755.0  16V GDI DOHC Turbo Hybrid        4.0   \n",
      "219            Prologue  2024  55800.0                          c        8.0   \n",
      "225                Taos  2024  25895.0         16V GDI DOHC Turbo        4.0   \n",
      "234            Wagoneer  2024  65928.0    24V GDI DOHC Twin Turbo        6.0   \n",
      "261            Wagoneer  2024  72908.0    24V GDI DOHC Twin Turbo        6.0   \n",
      "262             Compass  2023  37105.0         16V GDI DOHC Turbo        4.0   \n",
      "365             Compass  2024  38481.0         16V GDI DOHC Turbo        4.0   \n",
      "399            Wagoneer  2024  75888.0    24V GDI DOHC Twin Turbo        6.0   \n",
      "461              Hornet  2024  30900.0         16V GDI DOHC Turbo        4.0   \n",
      "476             Outback  2024  44354.0         16V GDI DOHC Turbo        4.0   \n",
      "489            Prologue  2024  55800.0                          c        6.0   \n",
      "490            Prologue  2024  55800.0                          c        4.0   \n",
      "503            Pacifica  2024  46163.0              24V MPFI DOHC        6.0   \n",
      "594        Wrangler 4xe  2024  51350.0  16V GDI DOHC Turbo Hybrid        4.0   \n",
      "596        Wrangler 4xe  2023  63715.0  16V GDI DOHC Turbo Hybrid        4.0   \n",
      "607          Wagoneer L  2024  83845.0    24V GDI DOHC Twin Turbo        6.0   \n",
      "628              Hornet  2024  49885.0  16V GDI DOHC Turbo Hybrid        4.0   \n",
      "629             Corolla  2024  22623.0               16V PDI DOHC        4.0   \n",
      "801             Outback  2024  32490.0               16V GDI DOHC        4.0   \n",
      "847  Grand Cherokee 4xe  2024  78655.0  16V GDI DOHC Turbo Hybrid        4.0   \n",
      "879    Grand Cherokee L  2024  49390.0                        OHV        6.0   \n",
      "885       Tucson Hybrid  2024  37215.0  16V GDI DOHC Turbo Hybrid        4.0   \n",
      "906             Envista  2024  31805.0         12V GDI DOHC Turbo        3.0   \n",
      "916      Grand Cherokee  2024  49842.0              24V MPFI DOHC        6.0   \n",
      "922             Outback  2024  39822.0               16V GDI DOHC        4.0   \n",
      "980               Forte  2024  21070.0              16V MPFI DOHC        4.0   \n",
      "\n",
      "         fuel  mileage                    transmission             trim  \\\n",
      "27   Gasoline      NaN               9-Speed Automatic        Touring-L   \n",
      "47   Gasoline      NaN                   Automatic CVT       Wilderness   \n",
      "63   Gasoline      NaN               8-Speed Automatic          Limited   \n",
      "73   Gasoline      NaN               8-Speed Automatic             Base   \n",
      "84   Gasoline      NaN               8-Speed Automatic          Limited   \n",
      "87   Gasoline      NaN               6-Speed Automatic           Avenir   \n",
      "93   Gasoline      NaN              10-Speed Automatic               XL   \n",
      "177  Gasoline      NaN               8-Speed Automatic          Reserve   \n",
      "217    Hybrid      NaN               8-Speed Automatic            Sport   \n",
      "219  Gasoline      NaN               1-Speed Automatic          TOURING   \n",
      "225  Gasoline      NaN  7-Speed DSGA? Automatic w/ 4MO           1.5T S   \n",
      "234  Gasoline      NaN               8-Speed Automatic             Base   \n",
      "261  Gasoline      NaN               8-Speed Automatic        Series II   \n",
      "262  Gasoline      NaN               8-Speed Automatic        Trailhawk   \n",
      "365  Gasoline      NaN               8-Speed Automatic          Limited   \n",
      "399  Gasoline      NaN               8-Speed Automatic        Series II   \n",
      "461  Gasoline      NaN               9-Speed Automatic               GT   \n",
      "476  Gasoline      NaN                   Automatic CVT       Wilderness   \n",
      "489  Gasoline      NaN               1-Speed Automatic          TOURING   \n",
      "490  Gasoline      NaN               1-Speed Automatic          TOURING   \n",
      "503  Gasoline      NaN               9-Speed Automatic        Touring-L   \n",
      "594    Hybrid      NaN               8-Speed Automatic            Sport   \n",
      "596    Hybrid      NaN               8-Speed Automatic           Sahara   \n",
      "607  Gasoline      NaN               8-Speed Automatic        Series II   \n",
      "628    Hybrid      NaN               6-Speed Automatic         R/T Plus   \n",
      "629  Gasoline      NaN                   Automatic CVT               LE   \n",
      "801  Gasoline      NaN                   Automatic CVT          Premium   \n",
      "847    Hybrid      NaN               8-Speed Automatic         Overland   \n",
      "879  Gasoline      NaN               8-Speed Automatic          Limited   \n",
      "885    Hybrid      NaN               6-Speed Automatic  SEL Convenience   \n",
      "906  Gasoline      NaN               6-Speed Automatic           Avenir   \n",
      "916  Gasoline      NaN               8-Speed Automatic          Limited   \n",
      "922  Gasoline      NaN                   Automatic CVT          Limited   \n",
      "980  Gasoline      NaN                   Automatic CVT              LXS   \n",
      "\n",
      "              body  doors                      exterior_color interior_color  \\\n",
      "27   Passenger Van    4.0                       Diamond Black          Black   \n",
      "47             SUV    4.0                           Magnetite           Gray   \n",
      "63             SUV    4.0              Bright White Clearcoat  Beige / Black   \n",
      "73             SUV    4.0                            Metallic          Black   \n",
      "84             SUV    4.0                       Diamond Black   Global Black   \n",
      "87             SUV    4.0                 Ocean Blue Metallic          Ebony   \n",
      "93    Pickup Truck    4.0            Carbonized Gray Metallic          Ebony   \n",
      "177            SUV    4.0                       Gray Metallic     Black Onyx   \n",
      "217            SUV    4.0              Bright White Clearcoat          Black   \n",
      "219            SUV    4.0                                  BX           Gray   \n",
      "225            SUV    4.0             Deep Black Pearl Effect          Black   \n",
      "234            SUV    4.0              Bright White Clearcoat          Black   \n",
      "261            SUV    4.0                       Diamond Black          Black   \n",
      "262            SUV    4.0  Granite Crystal Clearcoat Metallic       Ruby Red   \n",
      "365            SUV    4.0                       Silver Zynith  Sepia / Black   \n",
      "399            SUV    4.0                     Riverrock Green          Black   \n",
      "461            SUV    4.0                              8 BALL          Black   \n",
      "476            SUV    4.0                        Autumn Green           Gray   \n",
      "489            SUV    4.0                               Pearl          Black   \n",
      "490            SUV    4.0                                Gray          Black   \n",
      "503  Passenger Van    4.0              Bright White Clearcoat          Black   \n",
      "594            SUV    4.0                     Anvil Clearcoat          Black   \n",
      "596            SUV    4.0             Silver Zynith Clearcoat          Black   \n",
      "607            SUV    4.0              Bright White Clearcoat          Black   \n",
      "628            SUV    4.0                          Blue Steel          Black   \n",
      "629          Sedan    4.0                              Silver          Black   \n",
      "801            SUV    4.0                 Crystal White Pearl          Black   \n",
      "847            SUV    4.0                        Midnight Sky   Global Black   \n",
      "879            SUV    4.0                       Diamond Black   Global Black   \n",
      "885            SUV    4.0                         Black Pearl           Gray   \n",
      "906            SUV    4.0                 Ocean Blue Metallic          Ebony   \n",
      "916            SUV    4.0              Bright White Clearcoat  Beige / Black   \n",
      "922            SUV    4.0                 Crystal White Pearl          Black   \n",
      "980          Sedan    4.0                          Steel Gray          Black   \n",
      "\n",
      "            drivetrain  \n",
      "27     All-wheel Drive  \n",
      "47     All-wheel Drive  \n",
      "63    Rear-wheel Drive  \n",
      "73    Four-wheel Drive  \n",
      "84    Four-wheel Drive  \n",
      "87   Front-wheel Drive  \n",
      "93    Four-wheel Drive  \n",
      "177    All-wheel Drive  \n",
      "217   Four-wheel Drive  \n",
      "219    All-wheel Drive  \n",
      "225    All-wheel Drive  \n",
      "234   Four-wheel Drive  \n",
      "261   Four-wheel Drive  \n",
      "262   Four-wheel Drive  \n",
      "365   Four-wheel Drive  \n",
      "399   Four-wheel Drive  \n",
      "461    All-wheel Drive  \n",
      "476    All-wheel Drive  \n",
      "489    All-wheel Drive  \n",
      "490    All-wheel Drive  \n",
      "503  Front-wheel Drive  \n",
      "594   Four-wheel Drive  \n",
      "596   Four-wheel Drive  \n",
      "607   Four-wheel Drive  \n",
      "628    All-wheel Drive  \n",
      "629  Front-wheel Drive  \n",
      "801    All-wheel Drive  \n",
      "847   Four-wheel Drive  \n",
      "879   Four-wheel Drive  \n",
      "885    All-wheel Drive  \n",
      "906  Front-wheel Drive  \n",
      "916   Four-wheel Drive  \n",
      "922    All-wheel Drive  \n",
      "980  Front-wheel Drive  \n"
     ]
    }
   ],
   "source": [
    "# Showing values whre mileage is null.\n",
    "print(f'Null values in the Mileage column:\\n{df[df['mileage'].isna()]}')"
   ]
  },
  {
   "cell_type": "code",
   "execution_count": 62,
   "id": "a337db96",
   "metadata": {},
   "outputs": [
    {
     "data": {
      "text/plain": [
       "name                   2024 Ford Ranger XL\n",
       "make                                  Ford\n",
       "model                               Ranger\n",
       "year                                  2024\n",
       "price                              38740.0\n",
       "engine                  16V GDI DOHC Turbo\n",
       "cylinders                              4.0\n",
       "fuel                              Gasoline\n",
       "mileage                                NaN\n",
       "transmission            10-Speed Automatic\n",
       "trim                                    XL\n",
       "body                          Pickup Truck\n",
       "doors                                  4.0\n",
       "exterior_color    Carbonized Gray Metallic\n",
       "interior_color                       Ebony\n",
       "drivetrain                Four-wheel Drive\n",
       "Name: 93, dtype: object"
      ]
     },
     "execution_count": 62,
     "metadata": {},
     "output_type": "execute_result"
    }
   ],
   "source": [
    "df.iloc[93]"
   ]
  },
  {
   "cell_type": "markdown",
   "id": "f6a06b52",
   "metadata": {},
   "source": [
    "After checking for some observations, the mayority of null values on this column are new cars (based on their price). Therefore, i will change Nan for 0."
   ]
  },
  {
   "cell_type": "code",
   "execution_count": 63,
   "id": "50579b56",
   "metadata": {},
   "outputs": [
    {
     "name": "stdout",
     "output_type": "stream",
     "text": [
      "Null values from the Mileage column imputed successfully!\n"
     ]
    }
   ],
   "source": [
    "# Turning NaN values into 0.\n",
    "df['mileage'] = df['mileage'].fillna(0)\n",
    "print(f'Null values from the Mileage column imputed successfully!')"
   ]
  },
  {
   "cell_type": "markdown",
   "id": "be45b370",
   "metadata": {},
   "source": [
    "Continuing with interior color."
   ]
  },
  {
   "cell_type": "code",
   "execution_count": 66,
   "id": "a0c0500d",
   "metadata": {},
   "outputs": [
    {
     "name": "stdout",
     "output_type": "stream",
     "text": [
      "Number of unique values on Interior Color: 90\n",
      "Interior Color unique values: interior_color\n",
      "Black           497\n",
      "Global Black     83\n",
      "Gray             76\n",
      "Jet Black        45\n",
      "Ebony            38\n",
      "               ... \n",
      "Caramel           1\n",
      "gray              1\n",
      "Dark Palazzo      1\n",
      "Gray/Black        1\n",
      "Navy Pier         1\n",
      "Name: count, Length: 90, dtype: int64\n"
     ]
    }
   ],
   "source": [
    "# Unique values of interior color.\n",
    "print(f'Number of unique values on Interior Color: {df['interior_color'].nunique()}')\n",
    "# Distribution of interior color.\n",
    "print(f'Interior Color unique values: {df['interior_color'].value_counts()}')"
   ]
  },
  {
   "cell_type": "markdown",
   "id": "d17d62df",
   "metadata": {},
   "source": [
    "Most of the car has black as interior color. I don't think this is one the most important columns, so i will impute the null data with mode."
   ]
  },
  {
   "cell_type": "code",
   "execution_count": 67,
   "id": "dad10643",
   "metadata": {},
   "outputs": [
    {
     "name": "stdout",
     "output_type": "stream",
     "text": [
      "Null values from the Interior Color column imputed successfully!\n"
     ]
    }
   ],
   "source": [
    "# Imputing null values in the interior color column by mode.\n",
    "df['interior_color'] = df['interior_color'].fillna(df['interior_color'].mode()[0])\n",
    "print(f'Null values from the Interior Color column imputed successfully!')"
   ]
  },
  {
   "cell_type": "code",
   "execution_count": 68,
   "id": "1b7b8124",
   "metadata": {},
   "outputs": [
    {
     "name": "stdout",
     "output_type": "stream",
     "text": [
      "Number of null values: 18\n",
      "Every null value:\n",
      "name              0\n",
      "make              0\n",
      "model             0\n",
      "year              0\n",
      "price             0\n",
      "engine            0\n",
      "cylinders         0\n",
      "fuel              0\n",
      "mileage           0\n",
      "transmission      2\n",
      "trim              1\n",
      "body              3\n",
      "doors             7\n",
      "exterior_color    5\n",
      "interior_color    0\n",
      "drivetrain        0\n",
      "dtype: int64\n"
     ]
    }
   ],
   "source": [
    "# Checking new number of null values.\n",
    "print(f'Number of null values: {df.isna().sum().sum()}')\n",
    "print(f'Every null value:\\n{df.isna().sum()}')"
   ]
  },
  {
   "cell_type": "markdown",
   "id": "7ab66fc8",
   "metadata": {},
   "source": [
    "Finally, all this columns have less than 10 null values, so all of them will be imputed by mode."
   ]
  },
  {
   "cell_type": "code",
   "execution_count": 69,
   "id": "0abdcf42",
   "metadata": {},
   "outputs": [
    {
     "name": "stdout",
     "output_type": "stream",
     "text": [
      "Null values from the transmission column imputed successfully!\n",
      "Null values from the trim column imputed successfully!\n",
      "Null values from the body column imputed successfully!\n",
      "Null values from the doors column imputed successfully!\n",
      "Null values from the exterior_color column imputed successfully!\n"
     ]
    }
   ],
   "source": [
    "# Imputing null values in the transmission, trim, body, doors and exterior color columns by mode.\n",
    "columns_to_impute = ['transmission', 'trim', 'body', 'doors', 'exterior_color']\n",
    "for column in columns_to_impute:\n",
    "    df[column] = df[column].fillna(df[column].mode()[0])\n",
    "    print(f'Null values from the {column} column imputed successfully!')"
   ]
  },
  {
   "cell_type": "code",
   "execution_count": 70,
   "id": "0ea0525e",
   "metadata": {},
   "outputs": [
    {
     "name": "stdout",
     "output_type": "stream",
     "text": [
      "Number of null values: 0\n"
     ]
    }
   ],
   "source": [
    "print(f'Number of null values: {df.isna().sum().sum()}')"
   ]
  },
  {
   "cell_type": "markdown",
   "id": "34aa00ed",
   "metadata": {},
   "source": [
    "I will finish the preprocess section changing some float types columns to int columns."
   ]
  },
  {
   "cell_type": "code",
   "execution_count": 71,
   "id": "58eceac8",
   "metadata": {},
   "outputs": [
    {
     "name": "stdout",
     "output_type": "stream",
     "text": [
      "<class 'pandas.core.frame.DataFrame'>\n",
      "Index: 979 entries, 0 to 1001\n",
      "Data columns (total 16 columns):\n",
      " #   Column          Non-Null Count  Dtype  \n",
      "---  ------          --------------  -----  \n",
      " 0   name            979 non-null    object \n",
      " 1   make            979 non-null    object \n",
      " 2   model           979 non-null    object \n",
      " 3   year            979 non-null    int64  \n",
      " 4   price           979 non-null    float64\n",
      " 5   engine          979 non-null    object \n",
      " 6   cylinders       979 non-null    float64\n",
      " 7   fuel            979 non-null    object \n",
      " 8   mileage         979 non-null    float64\n",
      " 9   transmission    979 non-null    object \n",
      " 10  trim            979 non-null    object \n",
      " 11  body            979 non-null    object \n",
      " 12  doors           979 non-null    float64\n",
      " 13  exterior_color  979 non-null    object \n",
      " 14  interior_color  979 non-null    object \n",
      " 15  drivetrain      979 non-null    object \n",
      "dtypes: float64(4), int64(1), object(11)\n",
      "memory usage: 162.3+ KB\n"
     ]
    }
   ],
   "source": [
    "df.info()"
   ]
  },
  {
   "cell_type": "code",
   "execution_count": 72,
   "id": "1c660862",
   "metadata": {},
   "outputs": [
    {
     "name": "stdout",
     "output_type": "stream",
     "text": [
      "Column cylinders converted to int successfully!\n",
      "Column mileage converted to int successfully!\n",
      "Column doors converted to int successfully!\n"
     ]
    }
   ],
   "source": [
    "# Selecting float columns to convert to int.\n",
    "float_columns = ['cylinders','mileage','doors']\n",
    "# Converting float columns to int.\n",
    "for col in float_columns:\n",
    "    df[col] = df[col].astype(int)\n",
    "    print(f'Column {col} converted to int successfully!')\n"
   ]
  }
 ],
 "metadata": {
  "kernelspec": {
   "display_name": "ML",
   "language": "python",
   "name": "python3"
  },
  "language_info": {
   "codemirror_mode": {
    "name": "ipython",
    "version": 3
   },
   "file_extension": ".py",
   "mimetype": "text/x-python",
   "name": "python",
   "nbconvert_exporter": "python",
   "pygments_lexer": "ipython3",
   "version": "3.12.9"
  }
 },
 "nbformat": 4,
 "nbformat_minor": 5
}
